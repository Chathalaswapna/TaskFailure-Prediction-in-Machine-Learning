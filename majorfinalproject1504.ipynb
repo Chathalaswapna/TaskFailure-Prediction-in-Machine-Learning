{
  "nbformat": 4,
  "nbformat_minor": 0,
  "metadata": {
    "colab": {
      "provenance": [],
      "include_colab_link": true
    },
    "kernelspec": {
      "name": "python3",
      "display_name": "Python 3"
    },
    "language_info": {
      "name": "python"
    }
  },
  "cells": [
    {
      "cell_type": "markdown",
      "metadata": {
        "id": "view-in-github",
        "colab_type": "text"
      },
      "source": [
        "<a href=\"https://colab.research.google.com/github/Chathalaswapna/TaskFailurePrediction/blob/main/majorfinalproject1504.ipynb\" target=\"_parent\"><img src=\"https://colab.research.google.com/assets/colab-badge.svg\" alt=\"Open In Colab\"/></a>"
      ]
    },
    {
      "cell_type": "code",
      "execution_count": null,
      "metadata": {
        "id": "bYUnFE2erPrX"
      },
      "outputs": [],
      "source": []
    },
    {
      "cell_type": "code",
      "execution_count": null,
      "metadata": {
        "id": "1CbCKCgv2p6w"
      },
      "outputs": [],
      "source": []
    },
    {
      "cell_type": "code",
      "source": [
        "import numpy as np\n",
        "import pandas as pd\n",
        "import seaborn as sns\n",
        "import matplotlib.pyplot as plt\n",
        "from sklearn.metrics import accuracy_score, f1_score, precision_score, recall_score, classification_report, confusion_matrix\n",
        "from sklearn.model_selection import cross_val_score, GridSearchCV, RandomizedSearchCV\n",
        "from sklearn.model_selection import StratifiedKFold\n",
        "from sklearn.model_selection import train_test_split\n",
        "from sklearn.metrics import f1_score\n"
      ],
      "metadata": {
        "id": "N5MhOPWrTOcn"
      },
      "execution_count": null,
      "outputs": []
    },
    {
      "cell_type": "code",
      "source": [
        "train_df=pd.read_csv('/content/train_data.csv')\n",
        "train_df"
      ],
      "metadata": {
        "id": "OJCd5grzTg0A",
        "outputId": "b803089c-4c4e-4577-bc95-e3e620e3e551",
        "colab": {
          "base_uri": "https://localhost:8080/",
          "height": 423
        }
      },
      "execution_count": null,
      "outputs": [
        {
          "output_type": "execute_result",
          "data": {
            "text/plain": [
              "             job_id  memory_GB  network_log10_MBps  local_IO_log10_MBps  \\\n",
              "0      jobID1634295    44.3904             -1.0262               0.8033   \n",
              "1      jobID2033452    31.5839             -1.4608              -0.6080   \n",
              "2      jobID2068800   154.4610             -0.5508              -0.3637   \n",
              "3        jobID78826    71.8570              3.5701              -0.1281   \n",
              "4      jobID2935014    30.0370              3.3094              -0.9463   \n",
              "...             ...        ...                 ...                  ...   \n",
              "19995  jobID3638409    62.2909             -1.3317               0.8725   \n",
              "19996  jobID1716406    19.8377              3.1328              -0.2947   \n",
              "19997   jobID360445    22.1773              3.5185              -0.4147   \n",
              "19998   jobID335571    14.8184              2.7831              -1.0320   \n",
              "19999  jobID1165709     7.9835              0.7225              -1.1583   \n",
              "\n",
              "       NFS_IO_log10_MBps  failed  \n",
              "0                -3.0000       0  \n",
              "1                -2.9967       0  \n",
              "2                -3.0000       0  \n",
              "3                 2.3040       0  \n",
              "4                -3.0000       0  \n",
              "...                  ...     ...  \n",
              "19995            -2.9175       0  \n",
              "19996            -3.0000       0  \n",
              "19997            -3.0000       0  \n",
              "19998             0.8747       0  \n",
              "19999             0.2308       0  \n",
              "\n",
              "[20000 rows x 6 columns]"
            ],
            "text/html": [
              "\n",
              "  <div id=\"df-f2262cdc-8bd5-4101-93a1-6ad0517fe413\" class=\"colab-df-container\">\n",
              "    <div>\n",
              "<style scoped>\n",
              "    .dataframe tbody tr th:only-of-type {\n",
              "        vertical-align: middle;\n",
              "    }\n",
              "\n",
              "    .dataframe tbody tr th {\n",
              "        vertical-align: top;\n",
              "    }\n",
              "\n",
              "    .dataframe thead th {\n",
              "        text-align: right;\n",
              "    }\n",
              "</style>\n",
              "<table border=\"1\" class=\"dataframe\">\n",
              "  <thead>\n",
              "    <tr style=\"text-align: right;\">\n",
              "      <th></th>\n",
              "      <th>job_id</th>\n",
              "      <th>memory_GB</th>\n",
              "      <th>network_log10_MBps</th>\n",
              "      <th>local_IO_log10_MBps</th>\n",
              "      <th>NFS_IO_log10_MBps</th>\n",
              "      <th>failed</th>\n",
              "    </tr>\n",
              "  </thead>\n",
              "  <tbody>\n",
              "    <tr>\n",
              "      <th>0</th>\n",
              "      <td>jobID1634295</td>\n",
              "      <td>44.3904</td>\n",
              "      <td>-1.0262</td>\n",
              "      <td>0.8033</td>\n",
              "      <td>-3.0000</td>\n",
              "      <td>0</td>\n",
              "    </tr>\n",
              "    <tr>\n",
              "      <th>1</th>\n",
              "      <td>jobID2033452</td>\n",
              "      <td>31.5839</td>\n",
              "      <td>-1.4608</td>\n",
              "      <td>-0.6080</td>\n",
              "      <td>-2.9967</td>\n",
              "      <td>0</td>\n",
              "    </tr>\n",
              "    <tr>\n",
              "      <th>2</th>\n",
              "      <td>jobID2068800</td>\n",
              "      <td>154.4610</td>\n",
              "      <td>-0.5508</td>\n",
              "      <td>-0.3637</td>\n",
              "      <td>-3.0000</td>\n",
              "      <td>0</td>\n",
              "    </tr>\n",
              "    <tr>\n",
              "      <th>3</th>\n",
              "      <td>jobID78826</td>\n",
              "      <td>71.8570</td>\n",
              "      <td>3.5701</td>\n",
              "      <td>-0.1281</td>\n",
              "      <td>2.3040</td>\n",
              "      <td>0</td>\n",
              "    </tr>\n",
              "    <tr>\n",
              "      <th>4</th>\n",
              "      <td>jobID2935014</td>\n",
              "      <td>30.0370</td>\n",
              "      <td>3.3094</td>\n",
              "      <td>-0.9463</td>\n",
              "      <td>-3.0000</td>\n",
              "      <td>0</td>\n",
              "    </tr>\n",
              "    <tr>\n",
              "      <th>...</th>\n",
              "      <td>...</td>\n",
              "      <td>...</td>\n",
              "      <td>...</td>\n",
              "      <td>...</td>\n",
              "      <td>...</td>\n",
              "      <td>...</td>\n",
              "    </tr>\n",
              "    <tr>\n",
              "      <th>19995</th>\n",
              "      <td>jobID3638409</td>\n",
              "      <td>62.2909</td>\n",
              "      <td>-1.3317</td>\n",
              "      <td>0.8725</td>\n",
              "      <td>-2.9175</td>\n",
              "      <td>0</td>\n",
              "    </tr>\n",
              "    <tr>\n",
              "      <th>19996</th>\n",
              "      <td>jobID1716406</td>\n",
              "      <td>19.8377</td>\n",
              "      <td>3.1328</td>\n",
              "      <td>-0.2947</td>\n",
              "      <td>-3.0000</td>\n",
              "      <td>0</td>\n",
              "    </tr>\n",
              "    <tr>\n",
              "      <th>19997</th>\n",
              "      <td>jobID360445</td>\n",
              "      <td>22.1773</td>\n",
              "      <td>3.5185</td>\n",
              "      <td>-0.4147</td>\n",
              "      <td>-3.0000</td>\n",
              "      <td>0</td>\n",
              "    </tr>\n",
              "    <tr>\n",
              "      <th>19998</th>\n",
              "      <td>jobID335571</td>\n",
              "      <td>14.8184</td>\n",
              "      <td>2.7831</td>\n",
              "      <td>-1.0320</td>\n",
              "      <td>0.8747</td>\n",
              "      <td>0</td>\n",
              "    </tr>\n",
              "    <tr>\n",
              "      <th>19999</th>\n",
              "      <td>jobID1165709</td>\n",
              "      <td>7.9835</td>\n",
              "      <td>0.7225</td>\n",
              "      <td>-1.1583</td>\n",
              "      <td>0.2308</td>\n",
              "      <td>0</td>\n",
              "    </tr>\n",
              "  </tbody>\n",
              "</table>\n",
              "<p>20000 rows × 6 columns</p>\n",
              "</div>\n",
              "    <div class=\"colab-df-buttons\">\n",
              "\n",
              "  <div class=\"colab-df-container\">\n",
              "    <button class=\"colab-df-convert\" onclick=\"convertToInteractive('df-f2262cdc-8bd5-4101-93a1-6ad0517fe413')\"\n",
              "            title=\"Convert this dataframe to an interactive table.\"\n",
              "            style=\"display:none;\">\n",
              "\n",
              "  <svg xmlns=\"http://www.w3.org/2000/svg\" height=\"24px\" viewBox=\"0 -960 960 960\">\n",
              "    <path d=\"M120-120v-720h720v720H120Zm60-500h600v-160H180v160Zm220 220h160v-160H400v160Zm0 220h160v-160H400v160ZM180-400h160v-160H180v160Zm440 0h160v-160H620v160ZM180-180h160v-160H180v160Zm440 0h160v-160H620v160Z\"/>\n",
              "  </svg>\n",
              "    </button>\n",
              "\n",
              "  <style>\n",
              "    .colab-df-container {\n",
              "      display:flex;\n",
              "      gap: 12px;\n",
              "    }\n",
              "\n",
              "    .colab-df-convert {\n",
              "      background-color: #E8F0FE;\n",
              "      border: none;\n",
              "      border-radius: 50%;\n",
              "      cursor: pointer;\n",
              "      display: none;\n",
              "      fill: #1967D2;\n",
              "      height: 32px;\n",
              "      padding: 0 0 0 0;\n",
              "      width: 32px;\n",
              "    }\n",
              "\n",
              "    .colab-df-convert:hover {\n",
              "      background-color: #E2EBFA;\n",
              "      box-shadow: 0px 1px 2px rgba(60, 64, 67, 0.3), 0px 1px 3px 1px rgba(60, 64, 67, 0.15);\n",
              "      fill: #174EA6;\n",
              "    }\n",
              "\n",
              "    .colab-df-buttons div {\n",
              "      margin-bottom: 4px;\n",
              "    }\n",
              "\n",
              "    [theme=dark] .colab-df-convert {\n",
              "      background-color: #3B4455;\n",
              "      fill: #D2E3FC;\n",
              "    }\n",
              "\n",
              "    [theme=dark] .colab-df-convert:hover {\n",
              "      background-color: #434B5C;\n",
              "      box-shadow: 0px 1px 3px 1px rgba(0, 0, 0, 0.15);\n",
              "      filter: drop-shadow(0px 1px 2px rgba(0, 0, 0, 0.3));\n",
              "      fill: #FFFFFF;\n",
              "    }\n",
              "  </style>\n",
              "\n",
              "    <script>\n",
              "      const buttonEl =\n",
              "        document.querySelector('#df-f2262cdc-8bd5-4101-93a1-6ad0517fe413 button.colab-df-convert');\n",
              "      buttonEl.style.display =\n",
              "        google.colab.kernel.accessAllowed ? 'block' : 'none';\n",
              "\n",
              "      async function convertToInteractive(key) {\n",
              "        const element = document.querySelector('#df-f2262cdc-8bd5-4101-93a1-6ad0517fe413');\n",
              "        const dataTable =\n",
              "          await google.colab.kernel.invokeFunction('convertToInteractive',\n",
              "                                                    [key], {});\n",
              "        if (!dataTable) return;\n",
              "\n",
              "        const docLinkHtml = 'Like what you see? Visit the ' +\n",
              "          '<a target=\"_blank\" href=https://colab.research.google.com/notebooks/data_table.ipynb>data table notebook</a>'\n",
              "          + ' to learn more about interactive tables.';\n",
              "        element.innerHTML = '';\n",
              "        dataTable['output_type'] = 'display_data';\n",
              "        await google.colab.output.renderOutput(dataTable, element);\n",
              "        const docLink = document.createElement('div');\n",
              "        docLink.innerHTML = docLinkHtml;\n",
              "        element.appendChild(docLink);\n",
              "      }\n",
              "    </script>\n",
              "  </div>\n",
              "\n",
              "\n",
              "<div id=\"df-7e4a1240-b424-41f2-b861-1ec1131751d6\">\n",
              "  <button class=\"colab-df-quickchart\" onclick=\"quickchart('df-7e4a1240-b424-41f2-b861-1ec1131751d6')\"\n",
              "            title=\"Suggest charts\"\n",
              "            style=\"display:none;\">\n",
              "\n",
              "<svg xmlns=\"http://www.w3.org/2000/svg\" height=\"24px\"viewBox=\"0 0 24 24\"\n",
              "     width=\"24px\">\n",
              "    <g>\n",
              "        <path d=\"M19 3H5c-1.1 0-2 .9-2 2v14c0 1.1.9 2 2 2h14c1.1 0 2-.9 2-2V5c0-1.1-.9-2-2-2zM9 17H7v-7h2v7zm4 0h-2V7h2v10zm4 0h-2v-4h2v4z\"/>\n",
              "    </g>\n",
              "</svg>\n",
              "  </button>\n",
              "\n",
              "<style>\n",
              "  .colab-df-quickchart {\n",
              "      --bg-color: #E8F0FE;\n",
              "      --fill-color: #1967D2;\n",
              "      --hover-bg-color: #E2EBFA;\n",
              "      --hover-fill-color: #174EA6;\n",
              "      --disabled-fill-color: #AAA;\n",
              "      --disabled-bg-color: #DDD;\n",
              "  }\n",
              "\n",
              "  [theme=dark] .colab-df-quickchart {\n",
              "      --bg-color: #3B4455;\n",
              "      --fill-color: #D2E3FC;\n",
              "      --hover-bg-color: #434B5C;\n",
              "      --hover-fill-color: #FFFFFF;\n",
              "      --disabled-bg-color: #3B4455;\n",
              "      --disabled-fill-color: #666;\n",
              "  }\n",
              "\n",
              "  .colab-df-quickchart {\n",
              "    background-color: var(--bg-color);\n",
              "    border: none;\n",
              "    border-radius: 50%;\n",
              "    cursor: pointer;\n",
              "    display: none;\n",
              "    fill: var(--fill-color);\n",
              "    height: 32px;\n",
              "    padding: 0;\n",
              "    width: 32px;\n",
              "  }\n",
              "\n",
              "  .colab-df-quickchart:hover {\n",
              "    background-color: var(--hover-bg-color);\n",
              "    box-shadow: 0 1px 2px rgba(60, 64, 67, 0.3), 0 1px 3px 1px rgba(60, 64, 67, 0.15);\n",
              "    fill: var(--button-hover-fill-color);\n",
              "  }\n",
              "\n",
              "  .colab-df-quickchart-complete:disabled,\n",
              "  .colab-df-quickchart-complete:disabled:hover {\n",
              "    background-color: var(--disabled-bg-color);\n",
              "    fill: var(--disabled-fill-color);\n",
              "    box-shadow: none;\n",
              "  }\n",
              "\n",
              "  .colab-df-spinner {\n",
              "    border: 2px solid var(--fill-color);\n",
              "    border-color: transparent;\n",
              "    border-bottom-color: var(--fill-color);\n",
              "    animation:\n",
              "      spin 1s steps(1) infinite;\n",
              "  }\n",
              "\n",
              "  @keyframes spin {\n",
              "    0% {\n",
              "      border-color: transparent;\n",
              "      border-bottom-color: var(--fill-color);\n",
              "      border-left-color: var(--fill-color);\n",
              "    }\n",
              "    20% {\n",
              "      border-color: transparent;\n",
              "      border-left-color: var(--fill-color);\n",
              "      border-top-color: var(--fill-color);\n",
              "    }\n",
              "    30% {\n",
              "      border-color: transparent;\n",
              "      border-left-color: var(--fill-color);\n",
              "      border-top-color: var(--fill-color);\n",
              "      border-right-color: var(--fill-color);\n",
              "    }\n",
              "    40% {\n",
              "      border-color: transparent;\n",
              "      border-right-color: var(--fill-color);\n",
              "      border-top-color: var(--fill-color);\n",
              "    }\n",
              "    60% {\n",
              "      border-color: transparent;\n",
              "      border-right-color: var(--fill-color);\n",
              "    }\n",
              "    80% {\n",
              "      border-color: transparent;\n",
              "      border-right-color: var(--fill-color);\n",
              "      border-bottom-color: var(--fill-color);\n",
              "    }\n",
              "    90% {\n",
              "      border-color: transparent;\n",
              "      border-bottom-color: var(--fill-color);\n",
              "    }\n",
              "  }\n",
              "</style>\n",
              "\n",
              "  <script>\n",
              "    async function quickchart(key) {\n",
              "      const quickchartButtonEl =\n",
              "        document.querySelector('#' + key + ' button');\n",
              "      quickchartButtonEl.disabled = true;  // To prevent multiple clicks.\n",
              "      quickchartButtonEl.classList.add('colab-df-spinner');\n",
              "      try {\n",
              "        const charts = await google.colab.kernel.invokeFunction(\n",
              "            'suggestCharts', [key], {});\n",
              "      } catch (error) {\n",
              "        console.error('Error during call to suggestCharts:', error);\n",
              "      }\n",
              "      quickchartButtonEl.classList.remove('colab-df-spinner');\n",
              "      quickchartButtonEl.classList.add('colab-df-quickchart-complete');\n",
              "    }\n",
              "    (() => {\n",
              "      let quickchartButtonEl =\n",
              "        document.querySelector('#df-7e4a1240-b424-41f2-b861-1ec1131751d6 button');\n",
              "      quickchartButtonEl.style.display =\n",
              "        google.colab.kernel.accessAllowed ? 'block' : 'none';\n",
              "    })();\n",
              "  </script>\n",
              "</div>\n",
              "\n",
              "  <div id=\"id_2caa38c9-d61f-4207-ae2d-98634ef95167\">\n",
              "    <style>\n",
              "      .colab-df-generate {\n",
              "        background-color: #E8F0FE;\n",
              "        border: none;\n",
              "        border-radius: 50%;\n",
              "        cursor: pointer;\n",
              "        display: none;\n",
              "        fill: #1967D2;\n",
              "        height: 32px;\n",
              "        padding: 0 0 0 0;\n",
              "        width: 32px;\n",
              "      }\n",
              "\n",
              "      .colab-df-generate:hover {\n",
              "        background-color: #E2EBFA;\n",
              "        box-shadow: 0px 1px 2px rgba(60, 64, 67, 0.3), 0px 1px 3px 1px rgba(60, 64, 67, 0.15);\n",
              "        fill: #174EA6;\n",
              "      }\n",
              "\n",
              "      [theme=dark] .colab-df-generate {\n",
              "        background-color: #3B4455;\n",
              "        fill: #D2E3FC;\n",
              "      }\n",
              "\n",
              "      [theme=dark] .colab-df-generate:hover {\n",
              "        background-color: #434B5C;\n",
              "        box-shadow: 0px 1px 3px 1px rgba(0, 0, 0, 0.15);\n",
              "        filter: drop-shadow(0px 1px 2px rgba(0, 0, 0, 0.3));\n",
              "        fill: #FFFFFF;\n",
              "      }\n",
              "    </style>\n",
              "    <button class=\"colab-df-generate\" onclick=\"generateWithVariable('train_df')\"\n",
              "            title=\"Generate code using this dataframe.\"\n",
              "            style=\"display:none;\">\n",
              "\n",
              "  <svg xmlns=\"http://www.w3.org/2000/svg\" height=\"24px\"viewBox=\"0 0 24 24\"\n",
              "       width=\"24px\">\n",
              "    <path d=\"M7,19H8.4L18.45,9,17,7.55,7,17.6ZM5,21V16.75L18.45,3.32a2,2,0,0,1,2.83,0l1.4,1.43a1.91,1.91,0,0,1,.58,1.4,1.91,1.91,0,0,1-.58,1.4L9.25,21ZM18.45,9,17,7.55Zm-12,3A5.31,5.31,0,0,0,4.9,8.1,5.31,5.31,0,0,0,1,6.5,5.31,5.31,0,0,0,4.9,4.9,5.31,5.31,0,0,0,6.5,1,5.31,5.31,0,0,0,8.1,4.9,5.31,5.31,0,0,0,12,6.5,5.46,5.46,0,0,0,6.5,12Z\"/>\n",
              "  </svg>\n",
              "    </button>\n",
              "    <script>\n",
              "      (() => {\n",
              "      const buttonEl =\n",
              "        document.querySelector('#id_2caa38c9-d61f-4207-ae2d-98634ef95167 button.colab-df-generate');\n",
              "      buttonEl.style.display =\n",
              "        google.colab.kernel.accessAllowed ? 'block' : 'none';\n",
              "\n",
              "      buttonEl.onclick = () => {\n",
              "        google.colab.notebook.generateWithVariable('train_df');\n",
              "      }\n",
              "      })();\n",
              "    </script>\n",
              "  </div>\n",
              "\n",
              "    </div>\n",
              "  </div>\n"
            ],
            "application/vnd.google.colaboratory.intrinsic+json": {
              "type": "dataframe",
              "variable_name": "train_df",
              "summary": "{\n  \"name\": \"train_df\",\n  \"rows\": 20000,\n  \"fields\": [\n    {\n      \"column\": \"job_id\",\n      \"properties\": {\n        \"dtype\": \"string\",\n        \"num_unique_values\": 20000,\n        \"samples\": [\n          \"jobID2359139\",\n          \"jobID201971\",\n          \"jobID2637193\"\n        ],\n        \"semantic_type\": \"\",\n        \"description\": \"\"\n      }\n    },\n    {\n      \"column\": \"memory_GB\",\n      \"properties\": {\n        \"dtype\": \"number\",\n        \"std\": 38.863070312036015,\n        \"min\": 2.457,\n        \"max\": 1747.79,\n        \"num_unique_values\": 18620,\n        \"samples\": [\n          19.7913,\n          17.6408,\n          28.7408\n        ],\n        \"semantic_type\": \"\",\n        \"description\": \"\"\n      }\n    },\n    {\n      \"column\": \"network_log10_MBps\",\n      \"properties\": {\n        \"dtype\": \"number\",\n        \"std\": 1.7766711492384184,\n        \"min\": -3.0,\n        \"max\": 3.996,\n        \"num_unique_values\": 16402,\n        \"samples\": [\n          3.2137,\n          0.294,\n          0.9146\n        ],\n        \"semantic_type\": \"\",\n        \"description\": \"\"\n      }\n    },\n    {\n      \"column\": \"local_IO_log10_MBps\",\n      \"properties\": {\n        \"dtype\": \"number\",\n        \"std\": 0.6944220540162727,\n        \"min\": -3.0,\n        \"max\": 2.3712,\n        \"num_unique_values\": 13774,\n        \"samples\": [\n          -0.0655,\n          -0.9332,\n          0.2419\n        ],\n        \"semantic_type\": \"\",\n        \"description\": \"\"\n      }\n    },\n    {\n      \"column\": \"NFS_IO_log10_MBps\",\n      \"properties\": {\n        \"dtype\": \"number\",\n        \"std\": 1.7855575855549832,\n        \"min\": -3.0,\n        \"max\": 3.854,\n        \"num_unique_values\": 8114,\n        \"samples\": [\n          -2.8947,\n          2.3114,\n          -1.338\n        ],\n        \"semantic_type\": \"\",\n        \"description\": \"\"\n      }\n    },\n    {\n      \"column\": \"failed\",\n      \"properties\": {\n        \"dtype\": \"number\",\n        \"std\": 0,\n        \"min\": 0,\n        \"max\": 1,\n        \"num_unique_values\": 2,\n        \"samples\": [\n          1,\n          0\n        ],\n        \"semantic_type\": \"\",\n        \"description\": \"\"\n      }\n    }\n  ]\n}"
            }
          },
          "metadata": {},
          "execution_count": 2
        }
      ]
    },
    {
      "cell_type": "code",
      "source": [
        "# print(train_df.to_string())"
      ],
      "metadata": {
        "id": "QPwhoTIcGE30"
      },
      "execution_count": null,
      "outputs": []
    },
    {
      "cell_type": "code",
      "source": [
        "train_df.info()"
      ],
      "metadata": {
        "id": "SubtWjuDT0CS",
        "colab": {
          "base_uri": "https://localhost:8080/"
        },
        "outputId": "99d8e861-c577-439a-8c25-6393de8fa4c3"
      },
      "execution_count": null,
      "outputs": [
        {
          "output_type": "stream",
          "name": "stdout",
          "text": [
            "<class 'pandas.core.frame.DataFrame'>\n",
            "RangeIndex: 20000 entries, 0 to 19999\n",
            "Data columns (total 6 columns):\n",
            " #   Column               Non-Null Count  Dtype  \n",
            "---  ------               --------------  -----  \n",
            " 0   job_id               20000 non-null  object \n",
            " 1   memory_GB            20000 non-null  float64\n",
            " 2   network_log10_MBps   20000 non-null  float64\n",
            " 3   local_IO_log10_MBps  20000 non-null  float64\n",
            " 4   NFS_IO_log10_MBps    20000 non-null  float64\n",
            " 5   failed               20000 non-null  int64  \n",
            "dtypes: float64(4), int64(1), object(1)\n",
            "memory usage: 937.6+ KB\n"
          ]
        }
      ]
    },
    {
      "cell_type": "code",
      "source": [
        "print(train_df.shape)"
      ],
      "metadata": {
        "id": "nJRYG5ATT36g",
        "colab": {
          "base_uri": "https://localhost:8080/"
        },
        "outputId": "52a5ceb1-ee1b-4eab-ae00-80e3761389d1"
      },
      "execution_count": null,
      "outputs": [
        {
          "output_type": "stream",
          "name": "stdout",
          "text": [
            "(20000, 6)\n"
          ]
        }
      ]
    },
    {
      "cell_type": "code",
      "source": [
        "print(train_df)"
      ],
      "metadata": {
        "id": "jkxxJ8lxVwJD",
        "colab": {
          "base_uri": "https://localhost:8080/"
        },
        "outputId": "bcdd1710-e9a2-420e-b444-eeafa0f11263"
      },
      "execution_count": null,
      "outputs": [
        {
          "output_type": "stream",
          "name": "stdout",
          "text": [
            "             job_id  memory_GB  network_log10_MBps  local_IO_log10_MBps  \\\n",
            "0      jobID1634295    44.3904             -1.0262               0.8033   \n",
            "1      jobID2033452    31.5839             -1.4608              -0.6080   \n",
            "2      jobID2068800   154.4610             -0.5508              -0.3637   \n",
            "3        jobID78826    71.8570              3.5701              -0.1281   \n",
            "4      jobID2935014    30.0370              3.3094              -0.9463   \n",
            "...             ...        ...                 ...                  ...   \n",
            "19995  jobID3638409    62.2909             -1.3317               0.8725   \n",
            "19996  jobID1716406    19.8377              3.1328              -0.2947   \n",
            "19997   jobID360445    22.1773              3.5185              -0.4147   \n",
            "19998   jobID335571    14.8184              2.7831              -1.0320   \n",
            "19999  jobID1165709     7.9835              0.7225              -1.1583   \n",
            "\n",
            "       NFS_IO_log10_MBps  failed  \n",
            "0                -3.0000       0  \n",
            "1                -2.9967       0  \n",
            "2                -3.0000       0  \n",
            "3                 2.3040       0  \n",
            "4                -3.0000       0  \n",
            "...                  ...     ...  \n",
            "19995            -2.9175       0  \n",
            "19996            -3.0000       0  \n",
            "19997            -3.0000       0  \n",
            "19998             0.8747       0  \n",
            "19999             0.2308       0  \n",
            "\n",
            "[20000 rows x 6 columns]\n"
          ]
        }
      ]
    },
    {
      "cell_type": "code",
      "source": [
        "# X = train_df.iloc[:, 1:5]\n",
        "# y = train_df.iloc[:,5]\n",
        "# print(y)\n",
        "# print(X)"
      ],
      "metadata": {
        "id": "MovUnI8nSipS"
      },
      "execution_count": null,
      "outputs": []
    },
    {
      "cell_type": "code",
      "source": [
        "from sklearn.preprocessing import StandardScaler\n",
        "from sklearn.decomposition import PCA\n",
        "X = train_df.iloc[:, 1:5]\n",
        "y = train_df.iloc[:, 5]\n",
        "\n",
        "# Standardize the features\n",
        "scaler = StandardScaler()\n",
        "X_scaled = scaler.fit_transform(X)\n",
        "\n",
        "# Perform PCA for dimensionality reduction\n",
        "pca = PCA(n_components=2)  # Choose number of components as per requirement\n",
        "X_pca = pca.fit_transform(X_scaled)\n",
        "\n",
        "# Concatenate the PCA components with target variable\n",
        "pca_df = pd.DataFrame(data=X_pca, columns=['PCA1', 'PCA2'])\n",
        "pca_df['Target'] = y.values\n",
        "\n",
        "# Now pca_df contains the transformed features ready for modeling\n",
        "print(pca_df.head())"
      ],
      "metadata": {
        "colab": {
          "base_uri": "https://localhost:8080/"
        },
        "id": "uTjQAOsY4UNg",
        "outputId": "2ae64a56-82bd-48ee-b5cc-e3df81f6341e"
      },
      "execution_count": null,
      "outputs": [
        {
          "output_type": "stream",
          "name": "stdout",
          "text": [
            "       PCA1      PCA2  Target\n",
            "0  2.054255  0.318135       0\n",
            "1  0.944595 -0.732467       0\n",
            "2  1.304136  2.177581       0\n",
            "3 -1.676341  2.126822       0\n",
            "4 -1.045299 -0.152905       0\n"
          ]
        }
      ]
    },
    {
      "cell_type": "code",
      "source": [
        "from sklearn.feature_selection import RFE\n",
        "from sklearn.ensemble import RandomForestClassifier\n",
        "\n",
        "# Assuming X contains your feature data and y contains the target variable\n",
        "rf = RandomForestClassifier()\n",
        "rfe = RFE(estimator=rf, n_features_to_select=5)  # Select top 5 features\n",
        "X_selected = rfe.fit_transform(X, y)\n",
        "print(X_selected)"
      ],
      "metadata": {
        "colab": {
          "base_uri": "https://localhost:8080/"
        },
        "id": "FRFU-wRlAX40",
        "outputId": "07a37a09-b824-413e-aa3d-973df18a64ef"
      },
      "execution_count": null,
      "outputs": [
        {
          "output_type": "stream",
          "name": "stdout",
          "text": [
            "[[ 44.3904  -1.0262   0.8033  -3.    ]\n",
            " [ 31.5839  -1.4608  -0.608   -2.9967]\n",
            " [154.461   -0.5508  -0.3637  -3.    ]\n",
            " ...\n",
            " [ 22.1773   3.5185  -0.4147  -3.    ]\n",
            " [ 14.8184   2.7831  -1.032    0.8747]\n",
            " [  7.9835   0.7225  -1.1583   0.2308]]\n"
          ]
        }
      ]
    },
    {
      "cell_type": "code",
      "source": [
        "from sklearn.preprocessing import PolynomialFeatures\n",
        "\n",
        "# Assuming X contains your feature data\n",
        "poly = PolynomialFeatures(degree=2)  # Create polynomial features up to degree 2\n",
        "X_poly = poly.fit_transform(X)\n"
      ],
      "metadata": {
        "id": "dTThBVN-A9R6"
      },
      "execution_count": null,
      "outputs": []
    },
    {
      "cell_type": "code",
      "source": [
        "from sklearn.preprocessing import StandardScaler\n",
        "from sklearn.model_selection import train_test_split\n",
        "\n",
        "X_train, X_test, y_train, y_test = train_test_split(X, y, random_state=1)"
      ],
      "metadata": {
        "id": "X47mS1ReUJYF"
      },
      "execution_count": null,
      "outputs": []
    },
    {
      "cell_type": "code",
      "source": [
        "X_train = X_train.values\n",
        "X_test = X_test.values\n",
        "\n",
        "X_train = X_train.reshape(-1, X_train.shape[1],1)\n",
        "X_test = X_test.reshape(-1, X_test.shape[1],1)"
      ],
      "metadata": {
        "id": "T0Cnjj_2UNzw"
      },
      "execution_count": null,
      "outputs": []
    },
    {
      "cell_type": "code",
      "source": [
        "print(X_train.shape)\n",
        "print(X_test.shape)"
      ],
      "metadata": {
        "id": "YZXdgR2iURvB",
        "colab": {
          "base_uri": "https://localhost:8080/"
        },
        "outputId": "523352ac-dcb9-4af8-da7d-54096003e15d"
      },
      "execution_count": null,
      "outputs": [
        {
          "output_type": "stream",
          "name": "stdout",
          "text": [
            "(15000, 4, 1)\n",
            "(5000, 4, 1)\n"
          ]
        }
      ]
    },
    {
      "cell_type": "code",
      "source": [
        "from keras.utils import to_categorical"
      ],
      "metadata": {
        "id": "evuXuL_4S8xT"
      },
      "execution_count": null,
      "outputs": []
    },
    {
      "cell_type": "code",
      "source": [
        "target_train = y_train\n",
        "target_test = y_test\n",
        "Y_train=to_categorical(target_train)\n",
        "Y_test=to_categorical(target_test)"
      ],
      "metadata": {
        "id": "8EOyLiYRUXN4"
      },
      "execution_count": null,
      "outputs": []
    },
    {
      "cell_type": "code",
      "source": [
        "!pip show tensorflow\n",
        "import tensorflow as tf"
      ],
      "metadata": {
        "id": "otYezQA-TOr1",
        "colab": {
          "base_uri": "https://localhost:8080/"
        },
        "outputId": "88cad1a6-7a22-4a07-e001-44b1f457ca53"
      },
      "execution_count": null,
      "outputs": [
        {
          "output_type": "stream",
          "name": "stdout",
          "text": [
            "Name: tensorflow\n",
            "Version: 2.15.0\n",
            "Summary: TensorFlow is an open source machine learning framework for everyone.\n",
            "Home-page: https://www.tensorflow.org/\n",
            "Author: Google Inc.\n",
            "Author-email: packages@tensorflow.org\n",
            "License: Apache 2.0\n",
            "Location: /usr/local/lib/python3.10/dist-packages\n",
            "Requires: absl-py, astunparse, flatbuffers, gast, google-pasta, grpcio, h5py, keras, libclang, ml-dtypes, numpy, opt-einsum, packaging, protobuf, setuptools, six, tensorboard, tensorflow-estimator, tensorflow-io-gcs-filesystem, termcolor, typing-extensions, wrapt\n",
            "Required-by: dopamine_rl, tf_keras\n"
          ]
        }
      ]
    },
    {
      "cell_type": "code",
      "source": [
        "from tensorflow.keras.layers import Conv1D, MaxPooling1D, Dropout, Flatten, Dense"
      ],
      "metadata": {
        "id": "yDvmlGz3Tmdx"
      },
      "execution_count": null,
      "outputs": []
    },
    {
      "cell_type": "code",
      "source": [
        "from tensorflow.keras.models import Sequential\n",
        "from tensorflow.keras.layers import Conv1D, MaxPooling1D, Dropout, Flatten, Dense\n",
        "\n",
        "model = Sequential([\n",
        "    Conv1D(filters=32, kernel_size=3, activation='relu', input_shape=(100, 1)),\n",
        "    MaxPooling1D(pool_size=2),\n",
        "    Dropout(rate=0.2),\n",
        "    Flatten(),\n",
        "    Dense(units=128, activation='relu'),\n",
        "    Dense(units=1, activation='sigmoid')\n",
        "])"
      ],
      "metadata": {
        "id": "Uw6_SVkqTi3X"
      },
      "execution_count": null,
      "outputs": []
    },
    {
      "cell_type": "code",
      "source": [
        "def showResults(test, pred):\n",
        "    #target_names = ['positive', 'negative']\n",
        "    # print(classification_report(test, pred, target_names=target_names))\n",
        "    accuracy = accuracy_score(test, pred)\n",
        "    precision=precision_score(test, pred, average='weighted')\n",
        "    f1Score=f1_score(test, pred, average='weighted')\n",
        "    #loss=log_loss(test,pred)\n",
        "    print(\"Accuracy  : {}\".format(accuracy))\n",
        "    print(\"Precision : {}\".format(precision))\n",
        "    print(\"f1Score : {}\".format(f1Score))\n",
        "    #print(\"Loss : {}\".format(loss))\n",
        "    cm=confusion_matrix(test, pred)\n",
        "    print(cm)"
      ],
      "metadata": {
        "id": "pIypZ3y3UQz8"
      },
      "execution_count": null,
      "outputs": []
    },
    {
      "cell_type": "code",
      "source": [
        "verbose, epoch, batch_size = 1, 100, 32\n",
        "activationFunction='relu'\n",
        "\n",
        "def getModel():\n",
        "\n",
        "    cnnmodel = Sequential()\n",
        "    cnnmodel.add(Conv1D(filters=128, kernel_size=2, activation='relu',input_shape=(X_train.shape[1],X_train.shape[2])))\n",
        "    cnnmodel.add(MaxPooling1D(pool_size=2))\n",
        "    cnnmodel.add(Dropout(rate=0.2))\n",
        "    cnnmodel.add(Flatten())\n",
        "    cnnmodel.add(Dense(64, activation='relu'))\n",
        "    cnnmodel.add(Dense(32, activation='relu'))\n",
        "    cnnmodel.add(Dense(2, activation='softmax'))\n",
        "    cnnmodel.compile(optimizer='adam', loss='categorical_crossentropy',metrics=['accuracy'])\n",
        "    cnnmodel.summary()\n",
        "    return cnnmodel\n",
        "\n",
        "cnnmodel = getModel()"
      ],
      "metadata": {
        "id": "tkwdfpoOUnD_",
        "colab": {
          "base_uri": "https://localhost:8080/"
        },
        "outputId": "01ff2484-8cf8-473a-8e0d-ccfd901067d7"
      },
      "execution_count": null,
      "outputs": [
        {
          "output_type": "stream",
          "name": "stdout",
          "text": [
            "Model: \"sequential_1\"\n",
            "_________________________________________________________________\n",
            " Layer (type)                Output Shape              Param #   \n",
            "=================================================================\n",
            " conv1d_1 (Conv1D)           (None, 3, 128)            384       \n",
            "                                                                 \n",
            " max_pooling1d_1 (MaxPoolin  (None, 1, 128)            0         \n",
            " g1D)                                                            \n",
            "                                                                 \n",
            " dropout_1 (Dropout)         (None, 1, 128)            0         \n",
            "                                                                 \n",
            " flatten_1 (Flatten)         (None, 128)               0         \n",
            "                                                                 \n",
            " dense_2 (Dense)             (None, 64)                8256      \n",
            "                                                                 \n",
            " dense_3 (Dense)             (None, 32)                2080      \n",
            "                                                                 \n",
            " dense_4 (Dense)             (None, 2)                 66        \n",
            "                                                                 \n",
            "=================================================================\n",
            "Total params: 10786 (42.13 KB)\n",
            "Trainable params: 10786 (42.13 KB)\n",
            "Non-trainable params: 0 (0.00 Byte)\n",
            "_________________________________________________________________\n"
          ]
        }
      ]
    },
    {
      "cell_type": "code",
      "source": [
        "modelhistory= cnnmodel.fit(X_train, Y_train, epochs=20,steps_per_epoch=2, verbose=verbose, validation_split=0.2, batch_size = batch_size)"
      ],
      "metadata": {
        "id": "q_8HKqaQUtMn",
        "colab": {
          "base_uri": "https://localhost:8080/"
        },
        "outputId": "16d51783-4224-4832-b45c-24b13eb26b4e"
      },
      "execution_count": null,
      "outputs": [
        {
          "output_type": "stream",
          "name": "stdout",
          "text": [
            "Epoch 1/20\n",
            "2/2 [==============================] - 2s 576ms/step - loss: 0.1915 - accuracy: 0.9531 - val_loss: 0.4280 - val_accuracy: 0.9163\n",
            "Epoch 2/20\n",
            "2/2 [==============================] - 0s 160ms/step - loss: 0.1706 - accuracy: 0.9688 - val_loss: 0.4686 - val_accuracy: 0.9163\n",
            "Epoch 3/20\n",
            "2/2 [==============================] - 0s 172ms/step - loss: 0.3051 - accuracy: 0.9219 - val_loss: 0.4653 - val_accuracy: 0.9163\n",
            "Epoch 4/20\n",
            "2/2 [==============================] - 0s 157ms/step - loss: 0.2386 - accuracy: 0.9531 - val_loss: 0.4591 - val_accuracy: 0.9163\n",
            "Epoch 5/20\n",
            "2/2 [==============================] - 0s 154ms/step - loss: 0.6292 - accuracy: 0.8750 - val_loss: 0.4178 - val_accuracy: 0.9163\n",
            "Epoch 6/20\n",
            "2/2 [==============================] - 0s 174ms/step - loss: 1.3193 - accuracy: 0.9375 - val_loss: 0.3842 - val_accuracy: 0.9163\n",
            "Epoch 7/20\n",
            "2/2 [==============================] - 0s 167ms/step - loss: 0.2278 - accuracy: 0.9531 - val_loss: 0.3650 - val_accuracy: 0.9163\n",
            "Epoch 8/20\n",
            "2/2 [==============================] - 0s 168ms/step - loss: 0.2204 - accuracy: 0.9375 - val_loss: 0.3545 - val_accuracy: 0.9163\n",
            "Epoch 9/20\n",
            "2/2 [==============================] - 0s 333ms/step - loss: 0.3083 - accuracy: 0.9062 - val_loss: 0.3490 - val_accuracy: 0.9163\n",
            "Epoch 10/20\n",
            "2/2 [==============================] - 0s 150ms/step - loss: 0.3686 - accuracy: 0.8750 - val_loss: 0.3487 - val_accuracy: 0.9163\n",
            "Epoch 11/20\n",
            "2/2 [==============================] - 0s 173ms/step - loss: 0.2252 - accuracy: 0.9688 - val_loss: 0.3477 - val_accuracy: 0.9163\n",
            "Epoch 12/20\n",
            "2/2 [==============================] - 0s 155ms/step - loss: 0.6370 - accuracy: 0.8906 - val_loss: 0.3460 - val_accuracy: 0.9163\n",
            "Epoch 13/20\n",
            "2/2 [==============================] - 0s 172ms/step - loss: 0.2094 - accuracy: 0.9531 - val_loss: 0.3458 - val_accuracy: 0.9163\n",
            "Epoch 14/20\n",
            "2/2 [==============================] - 0s 161ms/step - loss: 1.0195 - accuracy: 0.9375 - val_loss: 0.3479 - val_accuracy: 0.9163\n",
            "Epoch 15/20\n",
            "2/2 [==============================] - 0s 176ms/step - loss: 0.3275 - accuracy: 0.9062 - val_loss: 0.3517 - val_accuracy: 0.9163\n",
            "Epoch 16/20\n",
            "2/2 [==============================] - 0s 159ms/step - loss: 0.2996 - accuracy: 0.9531 - val_loss: 0.3512 - val_accuracy: 0.9163\n",
            "Epoch 17/20\n",
            "2/2 [==============================] - 0s 174ms/step - loss: 0.4162 - accuracy: 0.9375 - val_loss: 0.3475 - val_accuracy: 0.9163\n",
            "Epoch 18/20\n",
            "2/2 [==============================] - 0s 172ms/step - loss: 0.2212 - accuracy: 0.9688 - val_loss: 0.3411 - val_accuracy: 0.9163\n",
            "Epoch 19/20\n",
            "2/2 [==============================] - 0s 173ms/step - loss: 0.3948 - accuracy: 0.9219 - val_loss: 0.3355 - val_accuracy: 0.9163\n",
            "Epoch 20/20\n",
            "2/2 [==============================] - 0s 175ms/step - loss: 0.4542 - accuracy: 0.9375 - val_loss: 0.3338 - val_accuracy: 0.9163\n"
          ]
        }
      ]
    },
    {
      "cell_type": "code",
      "source": [
        "# Plot training & validation loss values\n",
        "plt.plot(modelhistory.history['loss'])\n",
        "plt.plot(modelhistory.history['val_loss'])\n",
        "plt.title('Model loss')\n",
        "plt.ylabel('Loss')\n",
        "plt.xlabel('Epoch')\n",
        "plt.legend(['Train', 'Validation'], loc='upper left')\n",
        "plt.savefig('loss.png', format='png', dpi=1200)\n",
        "plt.show()\n",
        "# Plot training & validation accuracy values\n",
        "plt.plot(modelhistory.history['accuracy'])\n",
        "plt.plot(modelhistory.history['val_accuracy'])\n",
        "plt.title('Model accuracy')\n",
        "plt.ylabel('Accuracy')\n",
        "plt.xlabel('Epoch')\n",
        "plt.legend(['Train', 'Validation'], loc='upper left')\n",
        "plt.savefig('accuracy.png', format='png', dpi=1200)\n",
        "plt.show()"
      ],
      "metadata": {
        "id": "Cb-j_qO6U30K",
        "colab": {
          "base_uri": "https://localhost:8080/",
          "height": 927
        },
        "outputId": "aeca1807-d289-44cc-f7d4-76a6e9d3c07e"
      },
      "execution_count": null,
      "outputs": [
        {
          "output_type": "display_data",
          "data": {
            "text/plain": [
              "<Figure size 640x480 with 1 Axes>"
            ],
            "image/png": "[encoded data removed]"
          },
          "metadata": {}
        },
        {
          "output_type": "display_data",
          "data": {
            "text/plain": [
              "<Figure size 640x480 with 1 Axes>"
            ],
            "image/png": "[encoded data removed]"
          },
          "metadata": {}
        }
      ]
    },
    {
      "cell_type": "code",
      "source": [
        "cnnpredictions = cnnmodel.predict(X_test, verbose=1)"
      ],
      "metadata": {
        "id": "kmsOA750VMXL",
        "colab": {
          "base_uri": "https://localhost:8080/"
        },
        "outputId": "8ad70d79-4582-4b55-cca0-fbb42b9c5135"
      },
      "execution_count": null,
      "outputs": [
        {
          "output_type": "stream",
          "name": "stdout",
          "text": [
            "157/157 [==============================] - 1s 2ms/step\n"
          ]
        }
      ]
    },
    {
      "cell_type": "code",
      "source": [
        "cnn_predict=np.argmax(cnnpredictions,axis=1)\n",
        "cnn_actual_value=np.argmax(Y_test,axis=1)\n",
        "showResults(cnn_actual_value, cnn_predict)"
      ],
      "metadata": {
        "id": "NJ8MYBi4cAD5",
        "colab": {
          "base_uri": "https://localhost:8080/"
        },
        "outputId": "8aaf1e80-935c-40e8-fc03-620ce02048e7"
      },
      "execution_count": null,
      "outputs": [
        {
          "output_type": "stream",
          "name": "stdout",
          "text": [
            "Accuracy  : 0.9172\n",
            "Precision : 0.84125584\n",
            "f1Score : 0.8775879824744419\n",
            "[[4586    0]\n",
            " [ 414    0]]\n"
          ]
        },
        {
          "output_type": "stream",
          "name": "stderr",
          "text": [
            "/usr/local/lib/python3.10/dist-packages/sklearn/metrics/_classification.py:1344: UndefinedMetricWarning: Precision is ill-defined and being set to 0.0 in labels with no predicted samples. Use `zero_division` parameter to control this behavior.\n",
            "  _warn_prf(average, modifier, msg_start, len(result))\n"
          ]
        }
      ]
    },
    {
      "cell_type": "code",
      "source": [
        "cnn = accuracy_score(cnn_actual_value, cnn_predict)\n",
        "f1cnn=f1_score(cnn_actual_value, cnn_predict, average='weighted')"
      ],
      "metadata": {
        "id": "tgwSAdQyUdYN"
      },
      "execution_count": null,
      "outputs": []
    },
    {
      "cell_type": "code",
      "source": [
        "##KFOLD VALIDATION"
      ],
      "metadata": {
        "id": "EinzPAAKVamc"
      },
      "execution_count": null,
      "outputs": []
    },
    {
      "cell_type": "code",
      "source": [
        "tempX=train_df.iloc[:,1:5].values\n",
        "tempY=train_df.iloc[:,5].values\n",
        "skf = StratifiedKFold(n_splits=3, shuffle=True)\n",
        "skf.get_n_splits(X_train, target_train)\n",
        "foldNum=0\n",
        "for train_index, val_index in skf.split(X_train, target_train):\n",
        "    foldNum+=1\n",
        "    print(\"Results for fold\",foldNum)\n",
        "    X_traincv, X_valcv = tempX[train_index], tempX[val_index]\n",
        "    Y_traincv, Y_valcv = tempY[train_index], tempY[val_index]\n",
        "\n",
        "    X_traincv=X_traincv.reshape(X_traincv.shape[0],X_traincv.shape[1],1)\n",
        "    X_valcv=X_valcv.reshape(X_valcv.shape[0],X_valcv.shape[1],1)\n",
        "    # one hot encode\n",
        "    Y_traincv = to_categorical(Y_traincv)\n",
        "    Y_valcv = to_categorical(Y_valcv)\n",
        "\n",
        "    history = cnnmodel.fit(X_traincv, Y_traincv, validation_data = (X_valcv, Y_valcv), epochs=20,steps_per_epoch=2, batch_size=batch_size)\n",
        "    yPredict = cnnmodel.predict(X_valcv)\n",
        "\n",
        "    #Converting one hot encoded test label to label\n",
        "    pred = np.argmax(yPredict, axis=1)\n",
        "    val = np.argmax(Y_valcv, axis=1)\n",
        "\n",
        "    showResults(val, pred)"
      ],
      "metadata": {
        "id": "rChNYHwnUjVD",
        "colab": {
          "base_uri": "https://localhost:8080/"
        },
        "outputId": "5af3552e-d6e8-4a67-d2e4-bffbf54cced1"
      },
      "execution_count": null,
      "outputs": [
        {
          "output_type": "stream",
          "name": "stdout",
          "text": [
            "Results for fold 1\n",
            "Epoch 1/20\n",
            "2/2 [==============================] - 2s 487ms/step - loss: 0.3016 - accuracy: 0.9219 - val_loss: 0.3206 - val_accuracy: 0.9254\n",
            "Epoch 2/20\n",
            "2/2 [==============================] - 0s 408ms/step - loss: 0.4086 - accuracy: 0.8906 - val_loss: 0.3181 - val_accuracy: 0.9254\n",
            "Epoch 3/20\n",
            "2/2 [==============================] - 1s 579ms/step - loss: 0.3385 - accuracy: 0.8906 - val_loss: 0.3169 - val_accuracy: 0.9254\n",
            "Epoch 4/20\n",
            "2/2 [==============================] - 0s 484ms/step - loss: 0.2484 - accuracy: 0.9375 - val_loss: 0.3124 - val_accuracy: 0.9254\n",
            "Epoch 5/20\n",
            "2/2 [==============================] - 0s 429ms/step - loss: 0.2001 - accuracy: 0.9531 - val_loss: 0.3053 - val_accuracy: 0.9254\n",
            "Epoch 6/20\n",
            "2/2 [==============================] - 1s 564ms/step - loss: 0.2702 - accuracy: 0.9219 - val_loss: 0.3007 - val_accuracy: 0.9254\n",
            "Epoch 7/20\n",
            "2/2 [==============================] - 1s 663ms/step - loss: 0.3180 - accuracy: 0.9219 - val_loss: 0.2999 - val_accuracy: 0.9254\n",
            "Epoch 8/20\n",
            "2/2 [==============================] - 1s 508ms/step - loss: 0.6854 - accuracy: 0.9688 - val_loss: 0.2965 - val_accuracy: 0.9254\n",
            "Epoch 9/20\n",
            "2/2 [==============================] - 1s 686ms/step - loss: 0.2141 - accuracy: 0.9375 - val_loss: 0.2941 - val_accuracy: 0.9254\n",
            "Epoch 10/20\n",
            "2/2 [==============================] - 1s 669ms/step - loss: 0.1900 - accuracy: 0.9531 - val_loss: 0.2924 - val_accuracy: 0.9254\n",
            "Epoch 11/20\n",
            "2/2 [==============================] - 1s 668ms/step - loss: 0.4273 - accuracy: 0.8906 - val_loss: 0.2897 - val_accuracy: 0.9254\n",
            "Epoch 12/20\n",
            "2/2 [==============================] - 1s 1s/step - loss: 0.3015 - accuracy: 0.9219 - val_loss: 0.2867 - val_accuracy: 0.9254\n",
            "Epoch 13/20\n",
            "2/2 [==============================] - 1s 1s/step - loss: 0.3380 - accuracy: 0.9062 - val_loss: 0.2835 - val_accuracy: 0.9254\n",
            "Epoch 14/20\n",
            "2/2 [==============================] - 1s 1s/step - loss: 0.7599 - accuracy: 0.9531 - val_loss: 0.2825 - val_accuracy: 0.9254\n",
            "Epoch 15/20\n",
            "2/2 [==============================] - 1s 597ms/step - loss: 0.4838 - accuracy: 0.9219 - val_loss: 0.2935 - val_accuracy: 0.9254\n",
            "Epoch 16/20\n",
            "2/2 [==============================] - 1s 754ms/step - loss: 0.2745 - accuracy: 0.9375 - val_loss: 0.3017 - val_accuracy: 0.9254\n",
            "Epoch 17/20\n",
            "2/2 [==============================] - 1s 716ms/step - loss: 0.3815 - accuracy: 0.8906 - val_loss: 0.3026 - val_accuracy: 0.9254\n",
            "Epoch 18/20\n",
            "2/2 [==============================] - 0s 450ms/step - loss: 0.3153 - accuracy: 0.9062 - val_loss: 0.3049 - val_accuracy: 0.9254\n",
            "Epoch 19/20\n",
            "2/2 [==============================] - 1s 680ms/step - loss: 0.2093 - accuracy: 0.9688 - val_loss: 0.2873 - val_accuracy: 0.9254\n",
            "Epoch 20/20\n",
            "2/2 [==============================] - 1s 671ms/step - loss: 0.2464 - accuracy: 0.9219 - val_loss: 0.2724 - val_accuracy: 0.9254\n",
            "157/157 [==============================] - 0s 3ms/step\n",
            "Accuracy  : 0.9254\n",
            "Precision : 0.85636516\n",
            "f1Score : 0.8895451958034695\n",
            "[[4627    0]\n",
            " [ 373    0]]\n",
            "Results for fold 2\n",
            "Epoch 1/20\n",
            "1/2 [==============>...............] - ETA: 0s - loss: 0.3954 - accuracy: 0.8438"
          ]
        },
        {
          "output_type": "stream",
          "name": "stderr",
          "text": [
            "/usr/local/lib/python3.10/dist-packages/sklearn/metrics/_classification.py:1344: UndefinedMetricWarning: Precision is ill-defined and being set to 0.0 in labels with no predicted samples. Use `zero_division` parameter to control this behavior.\n",
            "  _warn_prf(average, modifier, msg_start, len(result))\n"
          ]
        },
        {
          "output_type": "stream",
          "name": "stdout",
          "text": [
            "\b\b\b\b\b\b\b\b\b\b\b\b\b\b\b\b\b\b\b\b\b\b\b\b\b\b\b\b\b\b\b\b\b\b\b\b\b\b\b\b\b\b\b\b\b\b\b\b\b\b\b\b\b\b\b\b\b\b\b\b\b\b\b\b\b\b\b\b\b\b\b\b\b\b\b\b\b\b\b\b\r2/2 [==============================] - 1s 957ms/step - loss: 0.3155 - accuracy: 0.9062 - val_loss: 0.2813 - val_accuracy: 0.9192\n",
            "Epoch 2/20\n",
            "2/2 [==============================] - 1s 1s/step - loss: 0.1323 - accuracy: 0.9844 - val_loss: 0.2859 - val_accuracy: 0.9192\n",
            "Epoch 3/20\n",
            "2/2 [==============================] - 1s 518ms/step - loss: 0.1366 - accuracy: 0.9688 - val_loss: 0.2993 - val_accuracy: 0.9192\n",
            "Epoch 4/20\n",
            "2/2 [==============================] - 1s 668ms/step - loss: 0.6363 - accuracy: 0.9375 - val_loss: 0.2963 - val_accuracy: 0.9192\n",
            "Epoch 5/20\n",
            "2/2 [==============================] - 1s 682ms/step - loss: 0.2801 - accuracy: 0.9219 - val_loss: 0.2939 - val_accuracy: 0.9192\n",
            "Epoch 6/20\n",
            "2/2 [==============================] - 0s 449ms/step - loss: 0.4199 - accuracy: 0.8906 - val_loss: 0.2864 - val_accuracy: 0.9192\n",
            "Epoch 7/20\n",
            "2/2 [==============================] - 1s 1s/step - loss: 0.5038 - accuracy: 0.9531 - val_loss: 0.2747 - val_accuracy: 0.9192\n",
            "Epoch 8/20\n",
            "2/2 [==============================] - 1s 1s/step - loss: 0.2731 - accuracy: 0.9219 - val_loss: 0.3021 - val_accuracy: 0.9192\n",
            "Epoch 9/20\n",
            "2/2 [==============================] - 1s 1s/step - loss: 0.2353 - accuracy: 0.9375 - val_loss: 0.3720 - val_accuracy: 0.8926\n",
            "Epoch 10/20\n",
            "2/2 [==============================] - 1s 721ms/step - loss: 0.3342 - accuracy: 0.9219 - val_loss: 0.4386 - val_accuracy: 0.8522\n",
            "Epoch 11/20\n",
            "2/2 [==============================] - 1s 498ms/step - loss: 0.2521 - accuracy: 0.9531 - val_loss: 0.4077 - val_accuracy: 0.8654\n",
            "Epoch 12/20\n",
            "2/2 [==============================] - 1s 708ms/step - loss: 0.4308 - accuracy: 0.9062 - val_loss: 0.3302 - val_accuracy: 0.9040\n",
            "Epoch 13/20\n",
            "2/2 [==============================] - 1s 720ms/step - loss: 0.3609 - accuracy: 0.8906 - val_loss: 0.2848 - val_accuracy: 0.9192\n",
            "Epoch 14/20\n",
            "2/2 [==============================] - 1s 594ms/step - loss: 0.1468 - accuracy: 0.9688 - val_loss: 0.2726 - val_accuracy: 0.9192\n",
            "Epoch 15/20\n",
            "2/2 [==============================] - 1s 726ms/step - loss: 0.2213 - accuracy: 0.9375 - val_loss: 0.2769 - val_accuracy: 0.9192\n",
            "Epoch 16/20\n",
            "2/2 [==============================] - 1s 1s/step - loss: 0.2665 - accuracy: 0.9531 - val_loss: 0.2847 - val_accuracy: 0.9192\n",
            "Epoch 17/20\n",
            "2/2 [==============================] - 1s 693ms/step - loss: 0.2420 - accuracy: 0.9219 - val_loss: 0.2874 - val_accuracy: 0.9192\n",
            "Epoch 18/20\n",
            "2/2 [==============================] - 1s 684ms/step - loss: 0.3928 - accuracy: 0.8906 - val_loss: 0.2814 - val_accuracy: 0.9192\n",
            "Epoch 19/20\n",
            "2/2 [==============================] - 1s 686ms/step - loss: 0.2053 - accuracy: 0.9219 - val_loss: 0.2767 - val_accuracy: 0.9192\n",
            "Epoch 20/20\n",
            "2/2 [==============================] - 1s 738ms/step - loss: 0.3210 - accuracy: 0.9062 - val_loss: 0.2740 - val_accuracy: 0.9192\n",
            "157/157 [==============================] - 0s 3ms/step\n",
            "Accuracy  : 0.9192\n",
            "Precision : 0.8449286400000001\n",
            "f1Score : 0.8805008753647353\n",
            "[[4596    0]\n",
            " [ 404    0]]\n",
            "Results for fold 3\n",
            "Epoch 1/20\n"
          ]
        },
        {
          "output_type": "stream",
          "name": "stderr",
          "text": [
            "/usr/local/lib/python3.10/dist-packages/sklearn/metrics/_classification.py:1344: UndefinedMetricWarning: Precision is ill-defined and being set to 0.0 in labels with no predicted samples. Use `zero_division` parameter to control this behavior.\n",
            "  _warn_prf(average, modifier, msg_start, len(result))\n"
          ]
        },
        {
          "output_type": "stream",
          "name": "stdout",
          "text": [
            "2/2 [==============================] - 1s 812ms/step - loss: 0.4319 - accuracy: 0.8750 - val_loss: 0.2882 - val_accuracy: 0.9150\n",
            "Epoch 2/20\n",
            "2/2 [==============================] - 1s 1s/step - loss: 0.1553 - accuracy: 0.9688 - val_loss: 0.2866 - val_accuracy: 0.9150\n",
            "Epoch 3/20\n",
            "2/2 [==============================] - 1s 784ms/step - loss: 0.2684 - accuracy: 0.9062 - val_loss: 0.2867 - val_accuracy: 0.9150\n",
            "Epoch 4/20\n",
            "2/2 [==============================] - 0s 480ms/step - loss: 0.4501 - accuracy: 0.8594 - val_loss: 0.2887 - val_accuracy: 0.9150\n",
            "Epoch 5/20\n",
            "2/2 [==============================] - 0s 376ms/step - loss: 0.3235 - accuracy: 0.9062 - val_loss: 0.2949 - val_accuracy: 0.9150\n",
            "Epoch 6/20\n",
            "2/2 [==============================] - 0s 416ms/step - loss: 0.3017 - accuracy: 0.9062 - val_loss: 0.2958 - val_accuracy: 0.9150\n",
            "Epoch 7/20\n",
            "2/2 [==============================] - 1s 670ms/step - loss: 0.2507 - accuracy: 0.9219 - val_loss: 0.2914 - val_accuracy: 0.9150\n",
            "Epoch 8/20\n",
            "2/2 [==============================] - 0s 333ms/step - loss: 0.2966 - accuracy: 0.9062 - val_loss: 0.2891 - val_accuracy: 0.9150\n",
            "Epoch 9/20\n",
            "2/2 [==============================] - 0s 235ms/step - loss: 0.2860 - accuracy: 0.9375 - val_loss: 0.2889 - val_accuracy: 0.9150\n",
            "Epoch 10/20\n",
            "2/2 [==============================] - 0s 232ms/step - loss: 0.2759 - accuracy: 0.8906 - val_loss: 0.2898 - val_accuracy: 0.9150\n",
            "Epoch 11/20\n",
            "2/2 [==============================] - 0s 342ms/step - loss: 0.1928 - accuracy: 0.9375 - val_loss: 0.2936 - val_accuracy: 0.9150\n",
            "Epoch 12/20\n",
            "2/2 [==============================] - 0s 241ms/step - loss: 0.1387 - accuracy: 0.9688 - val_loss: 0.2984 - val_accuracy: 0.9150\n",
            "Epoch 13/20\n",
            "2/2 [==============================] - 0s 332ms/step - loss: 0.2088 - accuracy: 0.9375 - val_loss: 0.3042 - val_accuracy: 0.9150\n",
            "Epoch 14/20\n",
            "2/2 [==============================] - 0s 244ms/step - loss: 0.2117 - accuracy: 0.9375 - val_loss: 0.3104 - val_accuracy: 0.9150\n",
            "Epoch 15/20\n",
            "2/2 [==============================] - 0s 246ms/step - loss: 0.3836 - accuracy: 0.8750 - val_loss: 0.3106 - val_accuracy: 0.9150\n",
            "Epoch 16/20\n",
            "2/2 [==============================] - 0s 332ms/step - loss: 0.2435 - accuracy: 0.9219 - val_loss: 0.3061 - val_accuracy: 0.9150\n",
            "Epoch 17/20\n",
            "2/2 [==============================] - 0s 335ms/step - loss: 0.2012 - accuracy: 0.9531 - val_loss: 0.3032 - val_accuracy: 0.9150\n",
            "Epoch 18/20\n",
            "2/2 [==============================] - 0s 333ms/step - loss: 0.2898 - accuracy: 0.9531 - val_loss: 0.2984 - val_accuracy: 0.9150\n",
            "Epoch 19/20\n",
            "2/2 [==============================] - 0s 332ms/step - loss: 0.1500 - accuracy: 0.9531 - val_loss: 0.2939 - val_accuracy: 0.9150\n",
            "Epoch 20/20\n",
            "2/2 [==============================] - 0s 240ms/step - loss: 0.1702 - accuracy: 0.9531 - val_loss: 0.2927 - val_accuracy: 0.9150\n",
            "157/157 [==============================] - 0s 2ms/step\n",
            "Accuracy  : 0.915\n",
            "Precision : 0.837225\n",
            "f1Score : 0.8743864229765013\n",
            "[[4575    0]\n",
            " [ 425    0]]\n"
          ]
        },
        {
          "output_type": "stream",
          "name": "stderr",
          "text": [
            "/usr/local/lib/python3.10/dist-packages/sklearn/metrics/_classification.py:1344: UndefinedMetricWarning: Precision is ill-defined and being set to 0.0 in labels with no predicted samples. Use `zero_division` parameter to control this behavior.\n",
            "  _warn_prf(average, modifier, msg_start, len(result))\n"
          ]
        }
      ]
    },
    {
      "cell_type": "code",
      "source": [
        "cnnpredictionscv = cnnmodel.predict(X_test, verbose=1)"
      ],
      "metadata": {
        "id": "UkjOw5L5Un1a",
        "colab": {
          "base_uri": "https://localhost:8080/"
        },
        "outputId": "a433721e-69ce-48a5-e947-48745b4fc723"
      },
      "execution_count": null,
      "outputs": [
        {
          "output_type": "stream",
          "name": "stdout",
          "text": [
            "157/157 [==============================] - 0s 2ms/step\n"
          ]
        }
      ]
    },
    {
      "cell_type": "code",
      "source": [
        "cnn_predictcv=np.argmax(cnnpredictionscv,axis=1)\n",
        "cnn_actual_valuecv=np.argmax(Y_test,axis=1)\n",
        "showResults(cnn_actual_valuecv, cnn_predictcv)\n"
      ],
      "metadata": {
        "id": "-Pi-5C7GUvjm",
        "colab": {
          "base_uri": "https://localhost:8080/"
        },
        "outputId": "22648f07-0a4c-49af-d0ed-d37a45059dc5"
      },
      "execution_count": null,
      "outputs": [
        {
          "output_type": "stream",
          "name": "stdout",
          "text": [
            "Accuracy  : 0.9172\n",
            "Precision : 0.84125584\n",
            "f1Score : 0.8775879824744419\n",
            "[[4586    0]\n",
            " [ 414    0]]\n"
          ]
        },
        {
          "output_type": "stream",
          "name": "stderr",
          "text": [
            "/usr/local/lib/python3.10/dist-packages/sklearn/metrics/_classification.py:1344: UndefinedMetricWarning: Precision is ill-defined and being set to 0.0 in labels with no predicted samples. Use `zero_division` parameter to control this behavior.\n",
            "  _warn_prf(average, modifier, msg_start, len(result))\n"
          ]
        }
      ]
    },
    {
      "cell_type": "code",
      "source": [
        "cnnkv = accuracy_score(cnn_actual_valuecv, cnn_predictcv)\n",
        "f1cnnkv=f1_score(cnn_actual_valuecv, cnn_predictcv, average='weighted')"
      ],
      "metadata": {
        "id": "8TAZPZagUzDI"
      },
      "execution_count": null,
      "outputs": []
    },
    {
      "cell_type": "code",
      "source": [
        "#HYBRID CNN LSTM"
      ],
      "metadata": {
        "id": "kW_8Mf53qDG-"
      },
      "execution_count": null,
      "outputs": []
    },
    {
      "cell_type": "code",
      "source": [
        "import tensorflow as tf\n",
        "tf.keras.backend.clear_session()\n",
        "\n",
        "model = tf.keras.models.Sequential([tf.keras.layers.Conv1D(filters=64,kernel_size=5,strides=1,padding=\"causal\",activation=\"relu\",input_shape=(X_train.shape[1],X_train.shape[2])),\n",
        "    tf.keras.layers.MaxPooling1D(pool_size=2, strides=1, padding=\"valid\"),\n",
        "    tf.keras.layers.Conv1D(filters=32, kernel_size=3, strides=1, padding=\"causal\", activation=\"relu\"),\n",
        "    tf.keras.layers.MaxPooling1D(pool_size=2, strides=1, padding=\"valid\"),\n",
        "    tf.keras.layers.LSTM(128, return_sequences=True),\n",
        "    tf.keras.layers.Flatten(),\n",
        "    tf.keras.layers.Dense(128, activation=\"relu\"),\n",
        "    tf.keras.layers.Dropout(0.2),\n",
        "    tf.keras.layers.Dense(32, activation=\"relu\"),\n",
        "    tf.keras.layers.Dropout(0.1),\n",
        "    tf.keras.layers.Dense(2)\n",
        "])\n",
        "\n",
        "lr_schedule = tf.keras.optimizers.schedules.ExponentialDecay(5e-4,\n",
        "                                                             decay_steps=1000000,\n",
        "                                                             decay_rate=0.98,\n",
        "                                                             staircase=False)\n",
        "\n",
        "model.compile(loss=tf.keras.losses.MeanSquaredError(),\n",
        "              optimizer=tf.keras.optimizers.SGD(learning_rate=lr_schedule, momentum=0.8),\n",
        "              metrics=['acc'])\n",
        "model.summary()"
      ],
      "metadata": {
        "id": "ywfpDwFlpwf7",
        "colab": {
          "base_uri": "https://localhost:8080/"
        },
        "outputId": "f4b27dd5-1b08-413e-facd-8fc39338c1eb"
      },
      "execution_count": null,
      "outputs": [
        {
          "output_type": "stream",
          "name": "stdout",
          "text": [
            "Model: \"sequential\"\n",
            "_________________________________________________________________\n",
            " Layer (type)                Output Shape              Param #   \n",
            "=================================================================\n",
            " conv1d (Conv1D)             (None, 4, 64)             384       \n",
            "                                                                 \n",
            " max_pooling1d (MaxPooling1  (None, 3, 64)             0         \n",
            " D)                                                              \n",
            "                                                                 \n",
            " conv1d_1 (Conv1D)           (None, 3, 32)             6176      \n",
            "                                                                 \n",
            " max_pooling1d_1 (MaxPoolin  (None, 2, 32)             0         \n",
            " g1D)                                                            \n",
            "                                                                 \n",
            " lstm (LSTM)                 (None, 2, 128)            82432     \n",
            "                                                                 \n",
            " flatten (Flatten)           (None, 256)               0         \n",
            "                                                                 \n",
            " dense (Dense)               (None, 128)               32896     \n",
            "                                                                 \n",
            " dropout (Dropout)           (None, 128)               0         \n",
            "                                                                 \n",
            " dense_1 (Dense)             (None, 32)                4128      \n",
            "                                                                 \n",
            " dropout_1 (Dropout)         (None, 32)                0         \n",
            "                                                                 \n",
            " dense_2 (Dense)             (None, 2)                 66        \n",
            "                                                                 \n",
            "=================================================================\n",
            "Total params: 126082 (492.51 KB)\n",
            "Trainable params: 126082 (492.51 KB)\n",
            "Non-trainable params: 0 (0.00 Byte)\n",
            "_________________________________________________________________\n"
          ]
        }
      ]
    },
    {
      "cell_type": "code",
      "source": [
        "history = model.fit(X_train, Y_train,epochs=10)"
      ],
      "metadata": {
        "id": "jn3bgNxsqS2s",
        "colab": {
          "base_uri": "https://localhost:8080/"
        },
        "outputId": "141f0ab8-9c18-4b16-bbec-856284abe109"
      },
      "execution_count": null,
      "outputs": [
        {
          "output_type": "stream",
          "name": "stdout",
          "text": [
            "Epoch 1/10\n",
            "469/469 [==============================] - 7s 11ms/step - loss: 0.1373 - acc: 0.8993\n",
            "Epoch 2/10\n",
            "469/469 [==============================] - 4s 8ms/step - loss: 0.0880 - acc: 0.9192\n",
            "Epoch 3/10\n",
            "469/469 [==============================] - 4s 8ms/step - loss: 0.0830 - acc: 0.9192\n",
            "Epoch 4/10\n",
            "469/469 [==============================] - 5s 11ms/step - loss: 0.0810 - acc: 0.9192\n",
            "Epoch 5/10\n",
            "469/469 [==============================] - 4s 9ms/step - loss: 0.0795 - acc: 0.9192\n",
            "Epoch 6/10\n",
            "469/469 [==============================] - 4s 8ms/step - loss: 0.0790 - acc: 0.9192\n",
            "Epoch 7/10\n",
            "469/469 [==============================] - 4s 9ms/step - loss: 0.0778 - acc: 0.9192\n",
            "Epoch 8/10\n",
            "469/469 [==============================] - 5s 11ms/step - loss: 0.0773 - acc: 0.9192\n",
            "Epoch 9/10\n",
            "469/469 [==============================] - 4s 8ms/step - loss: 0.0773 - acc: 0.9192\n",
            "Epoch 10/10\n",
            "469/469 [==============================] - 4s 8ms/step - loss: 0.0769 - acc: 0.9192\n"
          ]
        }
      ]
    },
    {
      "cell_type": "code",
      "source": [
        "# Plot training & validation loss values\n",
        "plt.plot(history.history['loss'])\n",
        "plt.title('Model loss')\n",
        "plt.ylabel('Loss')\n",
        "plt.xlabel('Epoch')\n",
        "plt.legend(['Train', 'Validation'], loc='upper left')\n",
        "plt.savefig('loss.png', format='png', dpi=1200)\n",
        "plt.show()\n",
        "\n",
        "\n",
        "# Plot training & validation accuracy values\n",
        "plt.plot(history.history['acc'])\n",
        "plt.title('Model accuracy')\n",
        "plt.ylabel('Accuracy')\n",
        "plt.xlabel('Epoch')\n",
        "plt.legend(['Train', 'Validation'], loc='upper left')\n",
        "plt.savefig('accuracy.png', format='png', dpi=1200)\n",
        "plt.show()"
      ],
      "metadata": {
        "id": "7Ek1S9cgqgED",
        "colab": {
          "base_uri": "https://localhost:8080/",
          "height": 927
        },
        "outputId": "b4e386a3-4741-43db-d5a6-0f4e46a70c9c"
      },
      "execution_count": null,
      "outputs": [
        {
          "output_type": "display_data",
          "data": {
            "text/plain": [
              "<Figure size 640x480 with 1 Axes>"
            ],
            "image/png": "[encoded data removed]"
          },
          "metadata": {}
        },
        {
          "output_type": "display_data",
          "data": {
            "text/plain": [
              "<Figure size 640x480 with 1 Axes>"
            ],
            "image/png": "[encoded data removed]"
          },
          "metadata": {}
        }
      ]
    },
    {
      "cell_type": "code",
      "source": [
        "predictions = model.predict(X_test, verbose=1)"
      ],
      "metadata": {
        "id": "o9W4mfEOqrcq",
        "colab": {
          "base_uri": "https://localhost:8080/"
        },
        "outputId": "eb1ff0e7-6402-44d8-a776-fdd76b600d2e"
      },
      "execution_count": null,
      "outputs": [
        {
          "output_type": "stream",
          "name": "stdout",
          "text": [
            "157/157 [==============================] - 1s 3ms/step\n"
          ]
        }
      ]
    },
    {
      "cell_type": "code",
      "source": [
        "predictcv=np.argmax(predictions,axis=1)\n",
        "actual_valuecv=np.argmax(Y_test,axis=1)\n",
        "showResults(actual_valuecv, predictcv)"
      ],
      "metadata": {
        "id": "MSki0C4Iq0Cw",
        "colab": {
          "base_uri": "https://localhost:8080/"
        },
        "outputId": "11b1153c-bbfa-4f93-b1b1-a80dda8d7ddf"
      },
      "execution_count": null,
      "outputs": [
        {
          "output_type": "stream",
          "name": "stdout",
          "text": [
            "Accuracy  : 0.9172\n",
            "Precision : 0.84125584\n",
            "f1Score : 0.8775879824744419\n",
            "[[4586    0]\n",
            " [ 414    0]]\n"
          ]
        },
        {
          "output_type": "stream",
          "name": "stderr",
          "text": [
            "/usr/local/lib/python3.10/dist-packages/sklearn/metrics/_classification.py:1344: UndefinedMetricWarning: Precision is ill-defined and being set to 0.0 in labels with no predicted samples. Use `zero_division` parameter to control this behavior.\n",
            "  _warn_prf(average, modifier, msg_start, len(result))\n"
          ]
        }
      ]
    },
    {
      "cell_type": "code",
      "source": [
        "hyd = accuracy_score(actual_valuecv, predictcv)\n",
        "f1hyd=f1_score(actual_valuecv, predictcv, average='weighted')"
      ],
      "metadata": {
        "id": "6kYF7t8_rAcn"
      },
      "execution_count": null,
      "outputs": []
    },
    {
      "cell_type": "code",
      "source": [
        "#LSTM"
      ],
      "metadata": {
        "id": "pJ1gYbzIrHV-"
      },
      "execution_count": null,
      "outputs": []
    },
    {
      "cell_type": "code",
      "source": [
        "from keras.callbacks import EarlyStopping\n",
        "import math\n",
        "from keras.models import Sequential\n",
        "from keras.layers import Dense, Activation, Dropout\n",
        "from keras.layers import LSTM"
      ],
      "metadata": {
        "id": "ejsZ6UXkrJa1"
      },
      "execution_count": null,
      "outputs": []
    },
    {
      "cell_type": "code",
      "source": [
        "es=EarlyStopping(patience=7)\n",
        "model=Sequential()\n",
        "model.add(LSTM(13,input_shape=(X_train.shape[1],X_train.shape[2])))\n",
        "model.add(Dense(units=2))\n",
        "model.add(Activation('sigmoid'))\n",
        "model.compile(loss=tf.keras.losses.MeanSquaredError(),\n",
        "              optimizer=tf.keras.optimizers.SGD(learning_rate=lr_schedule, momentum=0.8),\n",
        "              metrics=['acc'])\n",
        "model.summary()"
      ],
      "metadata": {
        "id": "9M5S2N4Jrbwk",
        "colab": {
          "base_uri": "https://localhost:8080/"
        },
        "outputId": "0872e19e-5bc0-4f9d-e111-3c24bb9eac49"
      },
      "execution_count": null,
      "outputs": [
        {
          "output_type": "stream",
          "name": "stdout",
          "text": [
            "Model: \"sequential_1\"\n",
            "_________________________________________________________________\n",
            " Layer (type)                Output Shape              Param #   \n",
            "=================================================================\n",
            " lstm_1 (LSTM)               (None, 13)                780       \n",
            "                                                                 \n",
            " dense_3 (Dense)             (None, 2)                 28        \n",
            "                                                                 \n",
            " activation (Activation)     (None, 2)                 0         \n",
            "                                                                 \n",
            "=================================================================\n",
            "Total params: 808 (3.16 KB)\n",
            "Trainable params: 808 (3.16 KB)\n",
            "Non-trainable params: 0 (0.00 Byte)\n",
            "_________________________________________________________________\n"
          ]
        }
      ]
    },
    {
      "cell_type": "code",
      "source": [
        "history = model.fit(X_train, Y_train,epochs=10)"
      ],
      "metadata": {
        "id": "40f3JNtgrg1y",
        "colab": {
          "base_uri": "https://localhost:8080/"
        },
        "outputId": "46698385-5ff9-4b1e-ee62-cd7e98904c53"
      },
      "execution_count": null,
      "outputs": [
        {
          "output_type": "stream",
          "name": "stdout",
          "text": [
            "Epoch 1/10\n",
            "469/469 [==============================] - 4s 4ms/step - loss: 0.2192 - acc: 0.9192\n",
            "Epoch 2/10\n",
            "469/469 [==============================] - 3s 6ms/step - loss: 0.1905 - acc: 0.9192\n",
            "Epoch 3/10\n",
            "469/469 [==============================] - 3s 5ms/step - loss: 0.1680 - acc: 0.9192\n",
            "Epoch 4/10\n",
            "469/469 [==============================] - 2s 4ms/step - loss: 0.1504 - acc: 0.9192\n",
            "Epoch 5/10\n",
            "469/469 [==============================] - 2s 4ms/step - loss: 0.1366 - acc: 0.9192\n",
            "Epoch 6/10\n",
            "469/469 [==============================] - 2s 4ms/step - loss: 0.1256 - acc: 0.9192\n",
            "Epoch 7/10\n",
            "469/469 [==============================] - 2s 4ms/step - loss: 0.1170 - acc: 0.9192\n",
            "Epoch 8/10\n",
            "469/469 [==============================] - 2s 5ms/step - loss: 0.1101 - acc: 0.9192\n",
            "Epoch 9/10\n",
            "469/469 [==============================] - 3s 6ms/step - loss: 0.1046 - acc: 0.9192\n",
            "Epoch 10/10\n",
            "469/469 [==============================] - 2s 4ms/step - loss: 0.1001 - acc: 0.9192\n"
          ]
        }
      ]
    },
    {
      "cell_type": "code",
      "source": [
        "# Plot training & validation loss values\n",
        "plt.plot(history.history['loss'])\n",
        "plt.title('Model loss')\n",
        "plt.ylabel('Loss')\n",
        "plt.xlabel('Epoch')\n",
        "plt.legend(['Train', 'Validation'], loc='upper left')\n",
        "plt.savefig('loss.png', format='png', dpi=1200)\n",
        "plt.show()\n",
        "\n",
        "\n",
        "# Plot training & validation accuracy values\n",
        "plt.plot(history.history['acc'])\n",
        "plt.title('Model accuracy')\n",
        "plt.ylabel('Accuracy')\n",
        "plt.xlabel('Epoch')\n",
        "plt.legend(['Train', 'Validation'], loc='upper left')\n",
        "plt.savefig('accuracy.png', format='png', dpi=1200)\n",
        "plt.show()"
      ],
      "metadata": {
        "id": "jvm4HoZerroP",
        "colab": {
          "base_uri": "https://localhost:8080/",
          "height": 927
        },
        "outputId": "903071a6-997b-45d1-f4e7-414063fdc3a3"
      },
      "execution_count": null,
      "outputs": [
        {
          "output_type": "display_data",
          "data": {
            "text/plain": [
              "<Figure size 640x480 with 1 Axes>"
            ],
            "image/png": "[encoded data removed]"
          },
          "metadata": {}
        },
        {
          "output_type": "display_data",
          "data": {
            "text/plain": [
              "<Figure size 640x480 with 1 Axes>"
            ],
            "image/png": "[encoded data removed]"
          },
          "metadata": {}
        }
      ]
    },
    {
      "cell_type": "code",
      "source": [
        "predictions = model.predict(X_test, verbose=1)"
      ],
      "metadata": {
        "id": "amlUwpzNrxrb",
        "colab": {
          "base_uri": "https://localhost:8080/"
        },
        "outputId": "1533745f-f593-40a9-9bbb-1ef7f3e9767e"
      },
      "execution_count": null,
      "outputs": [
        {
          "output_type": "stream",
          "name": "stdout",
          "text": [
            "157/157 [==============================] - 1s 2ms/step\n"
          ]
        }
      ]
    },
    {
      "cell_type": "code",
      "source": [
        "predictcv=np.argmax(predictions,axis=1)\n",
        "actual_valuecv=np.argmax(Y_test,axis=1)\n",
        "showResults(actual_valuecv, predictcv)"
      ],
      "metadata": {
        "id": "CK1yhSc0r1xA",
        "colab": {
          "base_uri": "https://localhost:8080/"
        },
        "outputId": "474188e4-73d2-42cc-991d-5baf3aa73f9b"
      },
      "execution_count": null,
      "outputs": [
        {
          "output_type": "stream",
          "name": "stdout",
          "text": [
            "Accuracy  : 0.9172\n",
            "Precision : 0.84125584\n",
            "f1Score : 0.8775879824744419\n",
            "[[4586    0]\n",
            " [ 414    0]]\n"
          ]
        },
        {
          "output_type": "stream",
          "name": "stderr",
          "text": [
            "/usr/local/lib/python3.10/dist-packages/sklearn/metrics/_classification.py:1344: UndefinedMetricWarning: Precision is ill-defined and being set to 0.0 in labels with no predicted samples. Use `zero_division` parameter to control this behavior.\n",
            "  _warn_prf(average, modifier, msg_start, len(result))\n"
          ]
        }
      ]
    },
    {
      "cell_type": "code",
      "source": [
        "lstm = accuracy_score(actual_valuecv, predictcv)\n",
        "f1lstm=f1_score(actual_valuecv, predictcv, average='weighted')"
      ],
      "metadata": {
        "id": "v-ZJFEDsr3mj"
      },
      "execution_count": null,
      "outputs": []
    },
    {
      "cell_type": "code",
      "source": [
        "#BiLSTM"
      ],
      "metadata": {
        "id": "Dl7JfgiNr_vl"
      },
      "execution_count": null,
      "outputs": []
    },
    {
      "cell_type": "code",
      "source": [
        "from keras.layers import Dense, Dropout, Embedding, LSTM, Bidirectional"
      ],
      "metadata": {
        "id": "9WxyZFWQsDG6"
      },
      "execution_count": null,
      "outputs": []
    },
    {
      "cell_type": "code",
      "source": [
        "es=EarlyStopping(patience=7)\n",
        "model=Sequential()\n",
        "model.add(Bidirectional(LSTM(13,input_shape=(X_train.shape[1],X_train.shape[2]))))\n",
        "model.add(Dense(units=2))\n",
        "model.add(Activation('sigmoid'))\n",
        "model.compile(loss=tf.keras.losses.MeanSquaredError(),\n",
        "              optimizer=tf.keras.optimizers.SGD(learning_rate=lr_schedule, momentum=0.8),\n",
        "              metrics=['acc'])\n"
      ],
      "metadata": {
        "id": "iQsDfV9hsGFt"
      },
      "execution_count": null,
      "outputs": []
    },
    {
      "cell_type": "code",
      "source": [
        "history = model.fit(X_train, Y_train,epochs=10)"
      ],
      "metadata": {
        "id": "amdDervBsKXH",
        "colab": {
          "base_uri": "https://localhost:8080/"
        },
        "outputId": "acabf89e-3d1e-4c41-e110-990f507065b6"
      },
      "execution_count": null,
      "outputs": [
        {
          "output_type": "stream",
          "name": "stdout",
          "text": [
            "Epoch 1/10\n",
            "469/469 [==============================] - 9s 5ms/step - loss: 0.2472 - acc: 0.5822\n",
            "Epoch 2/10\n",
            "469/469 [==============================] - 3s 5ms/step - loss: 0.1832 - acc: 0.9192\n",
            "Epoch 3/10\n",
            "469/469 [==============================] - 3s 5ms/step - loss: 0.1450 - acc: 0.9192\n",
            "Epoch 4/10\n",
            "469/469 [==============================] - 3s 7ms/step - loss: 0.1218 - acc: 0.9192\n",
            "Epoch 5/10\n",
            "469/469 [==============================] - 3s 7ms/step - loss: 0.1072 - acc: 0.9192\n",
            "Epoch 6/10\n",
            "469/469 [==============================] - 2s 5ms/step - loss: 0.0979 - acc: 0.9192\n",
            "Epoch 7/10\n",
            "469/469 [==============================] - 3s 5ms/step - loss: 0.0919 - acc: 0.9192\n",
            "Epoch 8/10\n",
            "469/469 [==============================] - 2s 5ms/step - loss: 0.0878 - acc: 0.9192\n",
            "Epoch 9/10\n",
            "469/469 [==============================] - 3s 6ms/step - loss: 0.0849 - acc: 0.9192\n",
            "Epoch 10/10\n",
            "469/469 [==============================] - 4s 8ms/step - loss: 0.0827 - acc: 0.9192\n"
          ]
        }
      ]
    },
    {
      "cell_type": "code",
      "source": [
        "# Plot training & validation loss values\n",
        "plt.plot(history.history['loss'])\n",
        "plt.title('Model loss')\n",
        "plt.ylabel('Loss')\n",
        "plt.xlabel('Epoch')\n",
        "plt.legend(['Train', 'Validation'], loc='upper left')\n",
        "plt.savefig('loss.png', format='png', dpi=1200)\n",
        "plt.show()\n",
        "\n",
        "\n",
        "# Plot training & validation accuracy values\n",
        "plt.plot(history.history['acc'])\n",
        "plt.title('Model accuracy')\n",
        "plt.ylabel('Accuracy')\n",
        "plt.xlabel('Epoch')\n",
        "plt.legend(['Train', 'Validation'], loc='upper left')\n",
        "plt.savefig('accuracy.png', format='png', dpi=1200)\n",
        "plt.show()"
      ],
      "metadata": {
        "id": "_iTobTFMs8WU",
        "colab": {
          "base_uri": "https://localhost:8080/",
          "height": 927
        },
        "outputId": "0c4f04bc-66b2-4a09-871c-9cff2b20bc40"
      },
      "execution_count": null,
      "outputs": [
        {
          "output_type": "display_data",
          "data": {
            "text/plain": [
              "<Figure size 640x480 with 1 Axes>"
            ],
            "image/png": "[encoded data removed]"
          },
          "metadata": {}
        },
        {
          "output_type": "display_data",
          "data": {
            "text/plain": [
              "<Figure size 640x480 with 1 Axes>"
            ],
            "image/png": "[encoded data removed]"
          },
          "metadata": {}
        }
      ]
    },
    {
      "cell_type": "code",
      "source": [
        "predictions = model.predict(X_test, verbose=1)"
      ],
      "metadata": {
        "id": "dGEHRpqxtBDQ",
        "colab": {
          "base_uri": "https://localhost:8080/"
        },
        "outputId": "76292377-e3e0-4c57-9b55-77251323fec5"
      },
      "execution_count": null,
      "outputs": [
        {
          "output_type": "stream",
          "name": "stdout",
          "text": [
            "157/157 [==============================] - 2s 4ms/step\n"
          ]
        }
      ]
    },
    {
      "cell_type": "code",
      "source": [
        "predictcv=np.argmax(predictions,axis=1)\n",
        "actual_valuecv=np.argmax(Y_test,axis=1)\n",
        "showResults(actual_valuecv, predictcv)"
      ],
      "metadata": {
        "id": "V0xPbLJetFbz",
        "colab": {
          "base_uri": "https://localhost:8080/"
        },
        "outputId": "b58b1dcd-2898-459f-c4e7-190a952c35ea"
      },
      "execution_count": null,
      "outputs": [
        {
          "output_type": "stream",
          "name": "stdout",
          "text": [
            "Accuracy  : 0.9172\n",
            "Precision : 0.84125584\n",
            "f1Score : 0.8775879824744419\n",
            "[[4586    0]\n",
            " [ 414    0]]\n"
          ]
        },
        {
          "output_type": "stream",
          "name": "stderr",
          "text": [
            "/usr/local/lib/python3.10/dist-packages/sklearn/metrics/_classification.py:1344: UndefinedMetricWarning: Precision is ill-defined and being set to 0.0 in labels with no predicted samples. Use `zero_division` parameter to control this behavior.\n",
            "  _warn_prf(average, modifier, msg_start, len(result))\n"
          ]
        }
      ]
    },
    {
      "cell_type": "code",
      "source": [
        "bilstm = accuracy_score(actual_valuecv, predictcv)\n",
        "f1bilstm=f1_score(actual_valuecv, predictcv, average='weighted')"
      ],
      "metadata": {
        "id": "ro1sH0zifPmk"
      },
      "execution_count": null,
      "outputs": []
    },
    {
      "cell_type": "code",
      "source": [
        "from keras.layers import Dense, Dropout, Embedding, SimpleRNN"
      ],
      "metadata": {
        "id": "pwr7rzVcfpb9"
      },
      "execution_count": null,
      "outputs": []
    },
    {
      "cell_type": "code",
      "source": [
        "es=EarlyStopping(patience=7)\n",
        "model=Sequential()\n",
        "model.add(SimpleRNN(13,input_shape=(X_train.shape[1],X_train.shape[2])))\n",
        "model.add(Dense(units=2))\n",
        "model.add(Activation('sigmoid'))\n",
        "model.compile(loss=tf.keras.losses.MeanSquaredError(),\n",
        "              optimizer=tf.keras.optimizers.SGD(learning_rate=lr_schedule, momentum=0.8),\n",
        "              metrics=['acc'])\n"
      ],
      "metadata": {
        "id": "CItFtZr5fvx3"
      },
      "execution_count": null,
      "outputs": []
    },
    {
      "cell_type": "code",
      "source": [
        "#RNN"
      ],
      "metadata": {
        "id": "DOosqsMRCzeG"
      },
      "execution_count": null,
      "outputs": []
    },
    {
      "cell_type": "code",
      "source": [
        "from keras.layers import Dense, Dropout, Embedding, SimpleRNN"
      ],
      "metadata": {
        "id": "55pN8PuJHbmh"
      },
      "execution_count": null,
      "outputs": []
    },
    {
      "cell_type": "code",
      "source": [
        "es=EarlyStopping(patience=7)\n",
        "model=Sequential()\n",
        "model.add(SimpleRNN(13,input_shape=(X_train.shape[1],X_train.shape[2])))\n",
        "model.add(Dense(units=2))\n",
        "model.add(Activation('sigmoid'))\n",
        "model.compile(loss=tf.keras.losses.MeanSquaredError(),\n",
        "              optimizer=tf.keras.optimizers.SGD(learning_rate=lr_schedule, momentum=0.8),\n",
        "              metrics=['acc'])"
      ],
      "metadata": {
        "id": "s46NoL8dK0Xi"
      },
      "execution_count": null,
      "outputs": []
    },
    {
      "cell_type": "code",
      "source": [
        "model.summary()"
      ],
      "metadata": {
        "id": "8Lrf7jOuK6jo",
        "colab": {
          "base_uri": "https://localhost:8080/"
        },
        "outputId": "7bf99159-9929-4180-a57f-3a882ee40c54"
      },
      "execution_count": null,
      "outputs": [
        {
          "output_type": "stream",
          "name": "stdout",
          "text": [
            "Model: \"sequential_4\"\n",
            "_________________________________________________________________\n",
            " Layer (type)                Output Shape              Param #   \n",
            "=================================================================\n",
            " simple_rnn_1 (SimpleRNN)    (None, 13)                195       \n",
            "                                                                 \n",
            " dense_6 (Dense)             (None, 2)                 28        \n",
            "                                                                 \n",
            " activation_3 (Activation)   (None, 2)                 0         \n",
            "                                                                 \n",
            "=================================================================\n",
            "Total params: 223 (892.00 Byte)\n",
            "Trainable params: 223 (892.00 Byte)\n",
            "Non-trainable params: 0 (0.00 Byte)\n",
            "_________________________________________________________________\n"
          ]
        }
      ]
    },
    {
      "cell_type": "code",
      "source": [
        "history = model.fit(X_train, Y_train,epochs=10)"
      ],
      "metadata": {
        "id": "NwzAoYYyK--9",
        "colab": {
          "base_uri": "https://localhost:8080/"
        },
        "outputId": "9c7655dd-b98e-438c-a53e-3b58bd59b271"
      },
      "execution_count": null,
      "outputs": [
        {
          "output_type": "stream",
          "name": "stdout",
          "text": [
            "Epoch 1/10\n",
            "469/469 [==============================] - 3s 3ms/step - loss: 0.1512 - acc: 0.9191\n",
            "Epoch 2/10\n",
            "469/469 [==============================] - 1s 3ms/step - loss: 0.1162 - acc: 0.9192\n",
            "Epoch 3/10\n",
            "469/469 [==============================] - 1s 3ms/step - loss: 0.1008 - acc: 0.9192\n",
            "Epoch 4/10\n",
            "469/469 [==============================] - 1s 3ms/step - loss: 0.0925 - acc: 0.9192\n",
            "Epoch 5/10\n",
            "469/469 [==============================] - 1s 3ms/step - loss: 0.0873 - acc: 0.9192\n",
            "Epoch 6/10\n",
            "469/469 [==============================] - 1s 3ms/step - loss: 0.0840 - acc: 0.9192\n",
            "Epoch 7/10\n",
            "469/469 [==============================] - 1s 3ms/step - loss: 0.0817 - acc: 0.9192\n",
            "Epoch 8/10\n",
            "469/469 [==============================] - 2s 4ms/step - loss: 0.0801 - acc: 0.9192\n",
            "Epoch 9/10\n",
            "469/469 [==============================] - 2s 4ms/step - loss: 0.0790 - acc: 0.9192\n",
            "Epoch 10/10\n",
            "469/469 [==============================] - 2s 4ms/step - loss: 0.0781 - acc: 0.9192\n"
          ]
        }
      ]
    },
    {
      "cell_type": "code",
      "source": [
        "# Plot training & validation loss values\n",
        "plt.plot(history.history['loss'])\n",
        "plt.title('Model loss')\n",
        "plt.ylabel('Loss')\n",
        "plt.xlabel('Epoch')\n",
        "plt.legend(['Train', 'Validation'], loc='upper left')\n",
        "plt.savefig('loss.png', format='png', dpi=1200)\n",
        "plt.show()\n",
        "\n",
        "\n",
        "# Plot training & validation accuracy values\n",
        "plt.plot(history.history['acc'])\n",
        "plt.title('Model accuracy')\n",
        "plt.ylabel('Accuracy')\n",
        "plt.xlabel('Epoch')\n",
        "plt.legend(['Train', 'Validation'], loc='upper left')\n",
        "plt.savefig('accuracy.png', format='png', dpi=1200)\n",
        "plt.show()"
      ],
      "metadata": {
        "id": "kKb-RILELJSF",
        "colab": {
          "base_uri": "https://localhost:8080/",
          "height": 927
        },
        "outputId": "42a3ebb8-0574-4e02-acfb-88f68dcb924f"
      },
      "execution_count": null,
      "outputs": [
        {
          "output_type": "display_data",
          "data": {
            "text/plain": [
              "<Figure size 640x480 with 1 Axes>"
            ],
            "image/png": "[encoded data removed]"
          },
          "metadata": {}
        },
        {
          "output_type": "display_data",
          "data": {
            "text/plain": [
              "<Figure size 640x480 with 1 Axes>"
            ],
            "image/png": "[encoded data removed]"
          },
          "metadata": {}
        }
      ]
    },
    {
      "cell_type": "code",
      "source": [
        "predictions = model.predict(X_test, verbose=1)"
      ],
      "metadata": {
        "id": "ofkUnRvQLQf0",
        "colab": {
          "base_uri": "https://localhost:8080/"
        },
        "outputId": "9494eb37-7eb8-4c22-8f78-18faef044fee"
      },
      "execution_count": null,
      "outputs": [
        {
          "output_type": "stream",
          "name": "stdout",
          "text": [
            "157/157 [==============================] - 0s 2ms/step\n"
          ]
        }
      ]
    },
    {
      "cell_type": "code",
      "source": [
        "predictcv=np.argmax(predictions,axis=1)\n",
        "actual_valuecv=np.argmax(Y_test,axis=1)\n",
        "showResults(actual_valuecv, predictcv)"
      ],
      "metadata": {
        "id": "fHnANWM6LV3z",
        "colab": {
          "base_uri": "https://localhost:8080/"
        },
        "outputId": "1a46c44d-333e-4722-c16f-af765c734478"
      },
      "execution_count": null,
      "outputs": [
        {
          "output_type": "stream",
          "name": "stdout",
          "text": [
            "Accuracy  : 0.9172\n",
            "Precision : 0.84125584\n",
            "f1Score : 0.8775879824744419\n",
            "[[4586    0]\n",
            " [ 414    0]]\n"
          ]
        },
        {
          "output_type": "stream",
          "name": "stderr",
          "text": [
            "/usr/local/lib/python3.10/dist-packages/sklearn/metrics/_classification.py:1344: UndefinedMetricWarning: Precision is ill-defined and being set to 0.0 in labels with no predicted samples. Use `zero_division` parameter to control this behavior.\n",
            "  _warn_prf(average, modifier, msg_start, len(result))\n"
          ]
        }
      ]
    },
    {
      "cell_type": "code",
      "source": [
        "rnn = accuracy_score(actual_valuecv, predictcv)\n",
        "f1rnn=f1_score(actual_valuecv, predictcv, average='weighted')"
      ],
      "metadata": {
        "id": "Bg02Hz3rLc0V"
      },
      "execution_count": null,
      "outputs": []
    },
    {
      "cell_type": "code",
      "source": [
        "# For Machine Learning"
      ],
      "metadata": {
        "id": "N5jvvPzELrYn"
      },
      "execution_count": null,
      "outputs": []
    },
    {
      "cell_type": "code",
      "source": [
        "X = train_df.iloc[:, 1:5]\n",
        "y = train_df.iloc[:,5]"
      ],
      "metadata": {
        "id": "joh-KSL5LtxO"
      },
      "execution_count": null,
      "outputs": []
    },
    {
      "cell_type": "code",
      "source": [
        "from sklearn.model_selection import cross_val_score\n",
        "from sklearn.metrics import classification_report\n",
        "from sklearn.metrics import confusion_matrix\n",
        "from sklearn.metrics import accuracy_score"
      ],
      "metadata": {
        "id": "ZjAPwJKLL0vm"
      },
      "execution_count": null,
      "outputs": []
    },
    {
      "cell_type": "code",
      "source": [
        "# Random Forest"
      ],
      "metadata": {
        "id": "z2Gse226L8X3"
      },
      "execution_count": null,
      "outputs": []
    },
    {
      "cell_type": "code",
      "source": [
        "from sklearn.ensemble import RandomForestClassifier\n",
        "RF = RandomForestClassifier()\n",
        "RF.fit(X, y)\n",
        "predictions = RF.predict(X)\n",
        "print(\"*Confusion Matrix for RF: \")\n",
        "print(confusion_matrix(y, predictions))"
      ],
      "metadata": {
        "id": "-lNhkTdOL9Ko",
        "colab": {
          "base_uri": "https://localhost:8080/"
        },
        "outputId": "b4b2b4db-7c92-482b-c05d-0404b9830071"
      },
      "execution_count": null,
      "outputs": [
        {
          "output_type": "stream",
          "name": "stdout",
          "text": [
            "*Confusion Matrix for RF: \n",
            "[[18374     0]\n",
            " [    0  1626]]\n"
          ]
        }
      ]
    },
    {
      "cell_type": "code",
      "source": [
        "print(\"*Classification report for RF: \")\n",
        "print(classification_report(y, predictions))"
      ],
      "metadata": {
        "id": "5yFPbZEsL-BD",
        "colab": {
          "base_uri": "https://localhost:8080/"
        },
        "outputId": "a3d927ef-4d7d-461c-fa0f-75b901dfd211"
      },
      "execution_count": null,
      "outputs": [
        {
          "output_type": "stream",
          "name": "stdout",
          "text": [
            "*Classification report for RF: \n",
            "              precision    recall  f1-score   support\n",
            "\n",
            "           0       1.00      1.00      1.00     18374\n",
            "           1       1.00      1.00      1.00      1626\n",
            "\n",
            "    accuracy                           1.00     20000\n",
            "   macro avg       1.00      1.00      1.00     20000\n",
            "weighted avg       1.00      1.00      1.00     20000\n",
            "\n"
          ]
        }
      ]
    },
    {
      "cell_type": "code",
      "source": [
        "val1 = accuracy_score(y, predictions) *100\n",
        "print(val1)"
      ],
      "metadata": {
        "id": "42m6Eoq4MT8_",
        "colab": {
          "base_uri": "https://localhost:8080/"
        },
        "outputId": "9e84d039-489e-4c21-a83a-27933c500178"
      },
      "execution_count": null,
      "outputs": [
        {
          "output_type": "stream",
          "name": "stdout",
          "text": [
            "100.0\n"
          ]
        }
      ]
    },
    {
      "cell_type": "code",
      "source": [
        "f1rf = f1_score(y, predictions, average='weighted')"
      ],
      "metadata": {
        "id": "5AN3iT5LMjoo"
      },
      "execution_count": null,
      "outputs": []
    },
    {
      "cell_type": "code",
      "source": [
        "# Decision Tree"
      ],
      "metadata": {
        "id": "upbCciQPMvkt"
      },
      "execution_count": null,
      "outputs": []
    },
    {
      "cell_type": "code",
      "source": [
        "from sklearn import tree\n",
        "DT = tree.DecisionTreeClassifier()\n",
        "DT.fit(X, y)\n",
        "predictions = DT.predict(X)\n",
        "print(\"*Confusion Matrix for DT: \")\n",
        "print(confusion_matrix(y, predictions))"
      ],
      "metadata": {
        "id": "jW7Y5dnZMx0v",
        "colab": {
          "base_uri": "https://localhost:8080/"
        },
        "outputId": "753ebbb8-ac1d-4d28-bd9d-b2e5e00d9fbd"
      },
      "execution_count": null,
      "outputs": [
        {
          "output_type": "stream",
          "name": "stdout",
          "text": [
            "*Confusion Matrix for DT: \n",
            "[[18374     0]\n",
            " [    0  1626]]\n"
          ]
        }
      ]
    },
    {
      "cell_type": "code",
      "source": [
        "print(\"*Classification report for DT: \")\n",
        "print(classification_report(y, predictions))"
      ],
      "metadata": {
        "id": "hss8QdERMzN0",
        "colab": {
          "base_uri": "https://localhost:8080/"
        },
        "outputId": "5412ad62-4c4b-43b5-a792-64b9ad3a1305"
      },
      "execution_count": null,
      "outputs": [
        {
          "output_type": "stream",
          "name": "stdout",
          "text": [
            "*Classification report for DT: \n",
            "              precision    recall  f1-score   support\n",
            "\n",
            "           0       1.00      1.00      1.00     18374\n",
            "           1       1.00      1.00      1.00      1626\n",
            "\n",
            "    accuracy                           1.00     20000\n",
            "   macro avg       1.00      1.00      1.00     20000\n",
            "weighted avg       1.00      1.00      1.00     20000\n",
            "\n"
          ]
        }
      ]
    },
    {
      "cell_type": "code",
      "source": [
        "val2 = accuracy_score(y, predictions) *100\n",
        "print(val2)"
      ],
      "metadata": {
        "id": "xULwsq4uM0We",
        "colab": {
          "base_uri": "https://localhost:8080/"
        },
        "outputId": "e9697a5a-b31b-4f7a-890f-a4e7d7defc87"
      },
      "execution_count": null,
      "outputs": [
        {
          "output_type": "stream",
          "name": "stdout",
          "text": [
            "100.0\n"
          ]
        }
      ]
    },
    {
      "cell_type": "code",
      "source": [
        "f1dt = f1_score(y, predictions, average='weighted')"
      ],
      "metadata": {
        "id": "e_vf6agSM3I2"
      },
      "execution_count": null,
      "outputs": []
    },
    {
      "cell_type": "code",
      "source": [
        "# Hidden Markov Model"
      ],
      "metadata": {
        "id": "K2n5n3rVNTkH"
      },
      "execution_count": null,
      "outputs": []
    },
    {
      "cell_type": "code",
      "source": [
        "!pip install hmmlearn"
      ],
      "metadata": {
        "id": "2r6PgHewNVyk",
        "colab": {
          "base_uri": "https://localhost:8080/"
        },
        "outputId": "236e4f8b-0eec-4e14-aba7-505bf7738b55"
      },
      "execution_count": null,
      "outputs": [
        {
          "output_type": "stream",
          "name": "stdout",
          "text": [
            "Collecting hmmlearn\n",
            "  Downloading hmmlearn-0.3.2-cp310-cp310-manylinux_2_17_x86_64.manylinux2014_x86_64.whl (161 kB)\n",
            "\u001b[2K     \u001b[90m━━━━━━━━━━━━━━━━━━━━━━━━━━━━━━━━━━━━━━━━\u001b[0m \u001b[32m161.1/161.1 kB\u001b[0m \u001b[31m1.9 MB/s\u001b[0m eta \u001b[36m0:00:00\u001b[0m\n",
            "\u001b[?25hRequirement already satisfied: numpy>=1.10 in /usr/local/lib/python3.10/dist-packages (from hmmlearn) (1.25.2)\n",
            "Requirement already satisfied: scikit-learn!=0.22.0,>=0.16 in /usr/local/lib/python3.10/dist-packages (from hmmlearn) (1.2.2)\n",
            "Requirement already satisfied: scipy>=0.19 in /usr/local/lib/python3.10/dist-packages (from hmmlearn) (1.11.4)\n",
            "Requirement already satisfied: joblib>=1.1.1 in /usr/local/lib/python3.10/dist-packages (from scikit-learn!=0.22.0,>=0.16->hmmlearn) (1.4.2)\n",
            "Requirement already satisfied: threadpoolctl>=2.0.0 in /usr/local/lib/python3.10/dist-packages (from scikit-learn!=0.22.0,>=0.16->hmmlearn) (3.5.0)\n",
            "Installing collected packages: hmmlearn\n",
            "Successfully installed hmmlearn-0.3.2\n"
          ]
        }
      ]
    },
    {
      "cell_type": "code",
      "source": [
        "from hmmlearn.hmm import GaussianHMM\n",
        "hmm = GaussianHMM(n_components=2)\n",
        "hmm.fit(X)\n",
        "predictions = hmm.predict(X)\n",
        "print(\"*Confusion Matrix for HMM: \")\n",
        "print(confusion_matrix(y, predictions))"
      ],
      "metadata": {
        "id": "GjAU9gtsNWqn",
        "colab": {
          "base_uri": "https://localhost:8080/"
        },
        "outputId": "4ee52b6b-b7cc-4cf7-cd23-abf2590576a6"
      },
      "execution_count": null,
      "outputs": [
        {
          "output_type": "stream",
          "name": "stdout",
          "text": [
            "*Confusion Matrix for HMM: \n",
            "[[15843  2531]\n",
            " [ 1462   164]]\n"
          ]
        }
      ]
    },
    {
      "cell_type": "code",
      "source": [
        "print(\"*Classification report for HMM: \")\n",
        "print(classification_report(y, predictions))"
      ],
      "metadata": {
        "id": "bOu1AP8tNYPa",
        "colab": {
          "base_uri": "https://localhost:8080/"
        },
        "outputId": "66230116-a333-4b1b-ae24-8800ca7ec18e"
      },
      "execution_count": null,
      "outputs": [
        {
          "output_type": "stream",
          "name": "stdout",
          "text": [
            "*Classification report for HMM: \n",
            "              precision    recall  f1-score   support\n",
            "\n",
            "           0       0.92      0.86      0.89     18374\n",
            "           1       0.06      0.10      0.08      1626\n",
            "\n",
            "    accuracy                           0.80     20000\n",
            "   macro avg       0.49      0.48      0.48     20000\n",
            "weighted avg       0.85      0.80      0.82     20000\n",
            "\n"
          ]
        }
      ]
    },
    {
      "cell_type": "code",
      "source": [
        "val3 = accuracy_score(y, predictions) *100\n",
        "print(val3)"
      ],
      "metadata": {
        "id": "E6IU3PXyNZy4",
        "colab": {
          "base_uri": "https://localhost:8080/"
        },
        "outputId": "808b0503-aba6-49ae-94f4-ee7051e59305"
      },
      "execution_count": null,
      "outputs": [
        {
          "output_type": "stream",
          "name": "stdout",
          "text": [
            "80.035\n"
          ]
        }
      ]
    },
    {
      "cell_type": "code",
      "source": [
        "f1hmm = f1_score(y, predictions, average='weighted')"
      ],
      "metadata": {
        "id": "eViT26xINbSs"
      },
      "execution_count": null,
      "outputs": []
    },
    {
      "cell_type": "code",
      "source": [
        "##SVM"
      ],
      "metadata": {
        "id": "LyRdMdx8V4SK"
      },
      "execution_count": null,
      "outputs": []
    },
    {
      "cell_type": "code",
      "source": [
        "from sklearn.svm import SVC\n",
        "clf = SVC(gamma='auto')\n",
        "clf.fit(X, y)\n",
        "predictions = clf.predict(X)\n",
        "print(\"*Confusion Matrix for SVM: \")\n",
        "print(confusion_matrix(y, predictions))\n",
        "\n",
        "val4 = accuracy_score(y, predictions) *100\n",
        "print(val4)"
      ],
      "metadata": {
        "id": "h194SOYX-Kvs",
        "colab": {
          "base_uri": "https://localhost:8080/"
        },
        "outputId": "e62f2de3-982e-4a4c-cd66-159559ed3a5c"
      },
      "execution_count": null,
      "outputs": [
        {
          "output_type": "stream",
          "name": "stdout",
          "text": [
            "*Confusion Matrix for SVM: \n",
            "[[18295    79]\n",
            " [ 1094   532]]\n",
            "94.135\n"
          ]
        }
      ]
    },
    {
      "cell_type": "code",
      "source": [
        "print(\"*Classification report for SVM: \")\n",
        "print(classification_report(y, predictions))"
      ],
      "metadata": {
        "id": "xF64NVH1VevB",
        "colab": {
          "base_uri": "https://localhost:8080/"
        },
        "outputId": "11b2805e-0696-49eb-d839-c916ecb06827"
      },
      "execution_count": null,
      "outputs": [
        {
          "output_type": "stream",
          "name": "stdout",
          "text": [
            "*Classification report for SVM: \n",
            "              precision    recall  f1-score   support\n",
            "\n",
            "           0       0.94      1.00      0.97     18374\n",
            "           1       0.87      0.33      0.48      1626\n",
            "\n",
            "    accuracy                           0.94     20000\n",
            "   macro avg       0.91      0.66      0.72     20000\n",
            "weighted avg       0.94      0.94      0.93     20000\n",
            "\n"
          ]
        }
      ]
    },
    {
      "cell_type": "code",
      "source": [
        "f1svm = f1_score(y, predictions, average='weighted')"
      ],
      "metadata": {
        "id": "x_bGVU3MWAzh"
      },
      "execution_count": null,
      "outputs": []
    },
    {
      "cell_type": "code",
      "source": [
        "##Voting Classifier"
      ],
      "metadata": {
        "id": "WawPmUqYWDvS"
      },
      "execution_count": null,
      "outputs": []
    },
    {
      "cell_type": "code",
      "source": [
        "from sklearn.svm import SVC\n",
        "from sklearn.tree import DecisionTreeClassifier\n",
        "from sklearn.ensemble import RandomForestClassifier, VotingClassifier\n",
        "clf1 = SVC(gamma='auto')\n",
        "clf2 = RandomForestClassifier(n_estimators=50, random_state=1)\n",
        "clf3 = DecisionTreeClassifier()\n",
        "eclf1 = VotingClassifier(estimators=[('lr', clf1), ('rf', clf2), ('dt', clf3)], voting='hard')\n",
        "eclf1.fit(X, y)\n",
        "predictions = eclf1.predict(X)\n",
        "print(\"*Confusion Matrix for Voting Classifier: \")\n",
        "print(confusion_matrix(y, predictions))"
      ],
      "metadata": {
        "id": "aU2EfaHOWH_3",
        "colab": {
          "base_uri": "https://localhost:8080/"
        },
        "outputId": "cdc74ad1-1e91-4e33-deaa-7d5ecd9bfca1"
      },
      "execution_count": null,
      "outputs": [
        {
          "output_type": "stream",
          "name": "stdout",
          "text": [
            "*Confusion Matrix for Voting Classifier: \n",
            "[[18374     0]\n",
            " [   11  1615]]\n"
          ]
        }
      ]
    },
    {
      "cell_type": "code",
      "source": [
        "print(\"*Classification report for Voting Classifier: \")\n",
        "print(classification_report(y, predictions))"
      ],
      "metadata": {
        "id": "qGQ7ISIMWLA6",
        "colab": {
          "base_uri": "https://localhost:8080/"
        },
        "outputId": "2040350d-5401-40bb-8067-3fbbfdb657f2"
      },
      "execution_count": null,
      "outputs": [
        {
          "output_type": "stream",
          "name": "stdout",
          "text": [
            "*Classification report for Voting Classifier: \n",
            "              precision    recall  f1-score   support\n",
            "\n",
            "           0       1.00      1.00      1.00     18374\n",
            "           1       1.00      0.99      1.00      1626\n",
            "\n",
            "    accuracy                           1.00     20000\n",
            "   macro avg       1.00      1.00      1.00     20000\n",
            "weighted avg       1.00      1.00      1.00     20000\n",
            "\n"
          ]
        }
      ]
    },
    {
      "cell_type": "code",
      "source": [
        "val5 = accuracy_score(y, predictions) *100\n",
        "print(val5)"
      ],
      "metadata": {
        "id": "ygGsBa6PWSDE",
        "colab": {
          "base_uri": "https://localhost:8080/"
        },
        "outputId": "aaa58fe2-f206-46d7-d6c9-6fb455beace2"
      },
      "execution_count": null,
      "outputs": [
        {
          "output_type": "stream",
          "name": "stdout",
          "text": [
            "99.945\n"
          ]
        }
      ]
    },
    {
      "cell_type": "code",
      "source": [
        "f1vot = f1_score(y, predictions, average='weighted')"
      ],
      "metadata": {
        "id": "_H7qC1DuWVpp"
      },
      "execution_count": null,
      "outputs": []
    },
    {
      "cell_type": "code",
      "source": [
        "import numpy as np\n",
        "import matplotlib.pyplot as plt\n",
        "\n",
        "N = 11\n",
        "ind = np.arange(N)  # the x locations for the groups\n",
        "width = 0.3      # the width of the bars\n",
        "\n",
        "fig = plt.figure()\n",
        "ax = fig.add_subplot(111)\n",
        "yvals = [cnn*100,cnnkv*100,hyd*100,lstm*100,bilstm*100,rnn*100,val1,val2,val3,val4,val5]\n",
        "rects1 = ax.bar(ind, yvals, width, color='r')\n",
        "zvals = [f1cnn*100,f1cnnkv*100,f1hyd*100,f1lstm*100,f1bilstm*100,f1rnn*100,f1rf*100,f1dt*100,f1hmm*100,f1svm*100,f1vot*100]\n",
        "rects2 = ax.bar(ind+width, zvals, width, color='g')\n",
        "ax.set_ylabel('Scores')\n",
        "ax.set_xticks(ind+width)\n",
        "ax.set_xticklabels( ('CNN','CNN+KFlodValidation','CNN+LSTM','LSTM','BiLSTM','RNN','RF','DT','HMM','SVM','Voting Classifier'), rotation=45, ha=\"right\")\n",
        "\n",
        "def autolabel(rects):\n",
        "    for rect in rects:\n",
        "        h = rect.get_height()\n",
        "        ax.text(rect.get_x()+rect.get_width()/2., 1.05*h, '%d'%int(h),\n",
        "                ha='center', va='bottom')\n",
        "\n",
        "autolabel(rects1)\n",
        "autolabel(rects2)\n",
        "\n",
        "# Move the legend outside the plot\n",
        "ax.legend( (rects1[0], rects2[0]), ('Accuracy', 'F1Score'), loc='upper left', bbox_to_anchor=(1, 1))\n",
        "\n",
        "plt.show()\n"
      ],
      "metadata": {
        "id": "OTE5o5zTWYnl",
        "colab": {
          "base_uri": "https://localhost:8080/",
          "height": 545
        },
        "outputId": "d405effe-4286-4c91-ed61-3065e1749fb9"
      },
      "execution_count": null,
      "outputs": [
        {
          "output_type": "display_data",
          "data": {
            "text/plain": [
              "<Figure size 640x480 with 1 Axes>"
            ],
            "image/png": "[encoded data removed]"
          },
          "metadata": {}
        }
      ]
    },
    {
      "cell_type": "code",
      "source": [
        "score = [cnn*100,cnnkv*100,hyd*100,lstm*100,bilstm*100,rnn*100,val1,val2,val3,val4,val5]"
      ],
      "metadata": {
        "id": "hrWuk9KdW0gQ"
      },
      "execution_count": null,
      "outputs": []
    },
    {
      "cell_type": "code",
      "source": [
        "#make variabel for save the result and to show it\n",
        "classifier = ('CNN','CNN+KFlodValidation','CNN+LSTM','LSTM','BiLSTM','RNN','RF','DT','HMM','SVM','Voting Classifier')\n",
        "y_pos = np.arange(len(classifier))\n",
        "print(y_pos)\n",
        "print(score)"
      ],
      "metadata": {
        "id": "ItgOI9kqXCmj",
        "colab": {
          "base_uri": "https://localhost:8080/"
        },
        "outputId": "5cb9dee9-3e2a-44e8-a13a-74a40ee44000"
      },
      "execution_count": null,
      "outputs": [
        {
          "output_type": "stream",
          "name": "stdout",
          "text": [
            "[ 0  1  2  3  4  5  6  7  8  9 10]\n",
            "[91.72, 91.72, 91.72, 91.72, 91.72, 91.72, 100.0, 100.0, 80.035, 94.135, 99.945]\n"
          ]
        }
      ]
    },
    {
      "cell_type": "code",
      "source": [
        "import matplotlib.pyplot as plt2\n",
        "plt2.barh(y_pos, score, align='center', alpha=0.5,color='blue')\n",
        "plt2.yticks(y_pos, classifier)\n",
        "plt2.xlabel('Score')\n",
        "plt2.title('Classification Performance')\n",
        "plt2.show()"
      ],
      "metadata": {
        "id": "FB7vWjwRXHbg",
        "colab": {
          "base_uri": "https://localhost:8080/",
          "height": 472
        },
        "outputId": "e9601e2b-2fbf-46df-b350-0afd80ab861e"
      },
      "execution_count": null,
      "outputs": [
        {
          "output_type": "display_data",
          "data": {
            "text/plain": [
              "<Figure size 640x480 with 1 Axes>"
            ],
            "image/png": "[encoded data removed]"
          },
          "metadata": {}
        }
      ]
    },
    {
      "cell_type": "code",
      "source": [
        "import joblib\n",
        "filename = 'model.sav'\n",
        "joblib.dump(eclf1, filename)"
      ],
      "metadata": {
        "id": "OwHEBm_sXLcl",
        "colab": {
          "base_uri": "https://localhost:8080/"
        },
        "outputId": "e38a1731-c287-44a4-d034-66e877b5e7b6"
      },
      "execution_count": null,
      "outputs": [
        {
          "output_type": "execute_result",
          "data": {
            "text/plain": [
              "['model.sav']"
            ]
          },
          "metadata": {},
          "execution_count": 97
        }
      ]
    }
  ]
}